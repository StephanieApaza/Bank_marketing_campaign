{
 "cells": [
  {
   "cell_type": "markdown",
   "id": "b2203cd3",
   "metadata": {},
   "source": [
    "### Cleaning of data"
   ]
  },
  {
   "cell_type": "code",
   "execution_count": 2,
   "id": "e2edad3c-8286-4983-b5b7-35d94fd78023",
   "metadata": {
    "executionCancelledAt": null,
    "executionTime": 49,
    "lastExecutedAt": 1756943994082,
    "lastExecutedByKernel": "df839e79-cead-4a38-9ed0-45991c1cfe5a",
    "lastScheduledRunId": null,
    "lastSuccessfullyExecutedCode": "import pandas as pd\nimport numpy as np"
   },
   "outputs": [],
   "source": [
    "import pandas as pd\n",
    "import numpy as np"
   ]
  },
  {
   "cell_type": "code",
   "execution_count": 3,
   "id": "3963a17a-9ba4-457e-9f34-b854cf57140b",
   "metadata": {
    "executionCancelledAt": null,
    "executionTime": 82,
    "lastExecutedAt": 1756943994165,
    "lastExecutedByKernel": "df839e79-cead-4a38-9ed0-45991c1cfe5a",
    "lastScheduledRunId": null,
    "lastSuccessfullyExecutedCode": "bank_df = pd.read_csv('bank_marketing.csv')\nbank_df.head()",
    "outputsMetadata": {
     "0": {
      "height": 264,
      "tableState": {
       "customFilter": {
        "const": {
         "type": "boolean",
         "valid": true,
         "value": true
        },
        "id": "09e2c2ca-96a2-4b45-a3f5-753b950ba585",
        "nodeType": "const"
       }
      },
      "type": "dataFrame"
     }
    }
   },
   "outputs": [
    {
     "data": {
      "text/html": [
       "<div>\n",
       "<style scoped>\n",
       "    .dataframe tbody tr th:only-of-type {\n",
       "        vertical-align: middle;\n",
       "    }\n",
       "\n",
       "    .dataframe tbody tr th {\n",
       "        vertical-align: top;\n",
       "    }\n",
       "\n",
       "    .dataframe thead th {\n",
       "        text-align: right;\n",
       "    }\n",
       "</style>\n",
       "<table border=\"1\" class=\"dataframe\">\n",
       "  <thead>\n",
       "    <tr style=\"text-align: right;\">\n",
       "      <th></th>\n",
       "      <th>client_id</th>\n",
       "      <th>age</th>\n",
       "      <th>job</th>\n",
       "      <th>marital</th>\n",
       "      <th>education</th>\n",
       "      <th>credit_default</th>\n",
       "      <th>mortgage</th>\n",
       "      <th>month</th>\n",
       "      <th>day</th>\n",
       "      <th>contact_duration</th>\n",
       "      <th>number_contacts</th>\n",
       "      <th>previous_campaign_contacts</th>\n",
       "      <th>previous_outcome</th>\n",
       "      <th>cons_price_idx</th>\n",
       "      <th>euribor_three_months</th>\n",
       "      <th>campaign_outcome</th>\n",
       "    </tr>\n",
       "  </thead>\n",
       "  <tbody>\n",
       "    <tr>\n",
       "      <th>0</th>\n",
       "      <td>0</td>\n",
       "      <td>56</td>\n",
       "      <td>housemaid</td>\n",
       "      <td>married</td>\n",
       "      <td>basic.4y</td>\n",
       "      <td>no</td>\n",
       "      <td>no</td>\n",
       "      <td>may</td>\n",
       "      <td>13</td>\n",
       "      <td>261</td>\n",
       "      <td>1</td>\n",
       "      <td>0</td>\n",
       "      <td>nonexistent</td>\n",
       "      <td>93.994</td>\n",
       "      <td>4.857</td>\n",
       "      <td>no</td>\n",
       "    </tr>\n",
       "    <tr>\n",
       "      <th>1</th>\n",
       "      <td>1</td>\n",
       "      <td>57</td>\n",
       "      <td>services</td>\n",
       "      <td>married</td>\n",
       "      <td>high.school</td>\n",
       "      <td>unknown</td>\n",
       "      <td>no</td>\n",
       "      <td>may</td>\n",
       "      <td>19</td>\n",
       "      <td>149</td>\n",
       "      <td>1</td>\n",
       "      <td>0</td>\n",
       "      <td>nonexistent</td>\n",
       "      <td>93.994</td>\n",
       "      <td>4.857</td>\n",
       "      <td>no</td>\n",
       "    </tr>\n",
       "    <tr>\n",
       "      <th>2</th>\n",
       "      <td>2</td>\n",
       "      <td>37</td>\n",
       "      <td>services</td>\n",
       "      <td>married</td>\n",
       "      <td>high.school</td>\n",
       "      <td>no</td>\n",
       "      <td>yes</td>\n",
       "      <td>may</td>\n",
       "      <td>23</td>\n",
       "      <td>226</td>\n",
       "      <td>1</td>\n",
       "      <td>0</td>\n",
       "      <td>nonexistent</td>\n",
       "      <td>93.994</td>\n",
       "      <td>4.857</td>\n",
       "      <td>no</td>\n",
       "    </tr>\n",
       "    <tr>\n",
       "      <th>3</th>\n",
       "      <td>3</td>\n",
       "      <td>40</td>\n",
       "      <td>admin.</td>\n",
       "      <td>married</td>\n",
       "      <td>basic.6y</td>\n",
       "      <td>no</td>\n",
       "      <td>no</td>\n",
       "      <td>may</td>\n",
       "      <td>27</td>\n",
       "      <td>151</td>\n",
       "      <td>1</td>\n",
       "      <td>0</td>\n",
       "      <td>nonexistent</td>\n",
       "      <td>93.994</td>\n",
       "      <td>4.857</td>\n",
       "      <td>no</td>\n",
       "    </tr>\n",
       "    <tr>\n",
       "      <th>4</th>\n",
       "      <td>4</td>\n",
       "      <td>56</td>\n",
       "      <td>services</td>\n",
       "      <td>married</td>\n",
       "      <td>high.school</td>\n",
       "      <td>no</td>\n",
       "      <td>no</td>\n",
       "      <td>may</td>\n",
       "      <td>3</td>\n",
       "      <td>307</td>\n",
       "      <td>1</td>\n",
       "      <td>0</td>\n",
       "      <td>nonexistent</td>\n",
       "      <td>93.994</td>\n",
       "      <td>4.857</td>\n",
       "      <td>no</td>\n",
       "    </tr>\n",
       "  </tbody>\n",
       "</table>\n",
       "</div>"
      ],
      "text/plain": [
       "   client_id  age        job  marital    education credit_default mortgage  \\\n",
       "0          0   56  housemaid  married     basic.4y             no       no   \n",
       "1          1   57   services  married  high.school        unknown       no   \n",
       "2          2   37   services  married  high.school             no      yes   \n",
       "3          3   40     admin.  married     basic.6y             no       no   \n",
       "4          4   56   services  married  high.school             no       no   \n",
       "\n",
       "  month  day  contact_duration  number_contacts  previous_campaign_contacts  \\\n",
       "0   may   13               261                1                           0   \n",
       "1   may   19               149                1                           0   \n",
       "2   may   23               226                1                           0   \n",
       "3   may   27               151                1                           0   \n",
       "4   may    3               307                1                           0   \n",
       "\n",
       "  previous_outcome  cons_price_idx  euribor_three_months campaign_outcome  \n",
       "0      nonexistent          93.994                 4.857               no  \n",
       "1      nonexistent          93.994                 4.857               no  \n",
       "2      nonexistent          93.994                 4.857               no  \n",
       "3      nonexistent          93.994                 4.857               no  \n",
       "4      nonexistent          93.994                 4.857               no  "
      ]
     },
     "execution_count": 3,
     "metadata": {},
     "output_type": "execute_result"
    }
   ],
   "source": [
    "bank_df = pd.read_csv('bank_marketing.csv')\n",
    "bank_df.head()"
   ]
  },
  {
   "cell_type": "code",
   "execution_count": 4,
   "id": "be741489-57b3-48d3-ace2-c737e595dd8d",
   "metadata": {
    "executionCancelledAt": null,
    "executionTime": 73,
    "lastExecutedAt": 1756943994238,
    "lastExecutedByKernel": "df839e79-cead-4a38-9ed0-45991c1cfe5a",
    "lastScheduledRunId": null,
    "lastSuccessfullyExecutedCode": "bank_df.dtypes"
   },
   "outputs": [
    {
     "data": {
      "text/plain": [
       "client_id                       int64\n",
       "age                             int64\n",
       "job                            object\n",
       "marital                        object\n",
       "education                      object\n",
       "credit_default                 object\n",
       "mortgage                       object\n",
       "month                          object\n",
       "day                             int64\n",
       "contact_duration                int64\n",
       "number_contacts                 int64\n",
       "previous_campaign_contacts      int64\n",
       "previous_outcome               object\n",
       "cons_price_idx                float64\n",
       "euribor_three_months          float64\n",
       "campaign_outcome               object\n",
       "dtype: object"
      ]
     },
     "execution_count": 4,
     "metadata": {},
     "output_type": "execute_result"
    }
   ],
   "source": [
    "bank_df.dtypes"
   ]
  },
  {
   "cell_type": "code",
   "execution_count": 5,
   "id": "58be27da-eb3f-4974-9d5f-10762483171e",
   "metadata": {
    "executionCancelledAt": null,
    "executionTime": 48,
    "lastExecutedAt": 1756943994287,
    "lastExecutedByKernel": "df839e79-cead-4a38-9ed0-45991c1cfe5a",
    "lastScheduledRunId": null,
    "lastSuccessfullyExecutedCode": "for col in ['credit_default', 'mortgage', 'previous_outcome', 'campaign_outcome']:\n    print('---------------------------')\n    print(bank_df[col].value_counts())",
    "outputsMetadata": {
     "0": {
      "height": 416,
      "type": "stream"
     }
    }
   },
   "outputs": [
    {
     "name": "stdout",
     "output_type": "stream",
     "text": [
      "---------------------------\n",
      "credit_default\n",
      "no         32588\n",
      "unknown     8597\n",
      "yes            3\n",
      "Name: count, dtype: int64\n",
      "---------------------------\n",
      "mortgage\n",
      "yes        21576\n",
      "no         18622\n",
      "unknown      990\n",
      "Name: count, dtype: int64\n",
      "---------------------------\n",
      "previous_outcome\n",
      "nonexistent    35563\n",
      "failure         4252\n",
      "success         1373\n",
      "Name: count, dtype: int64\n",
      "---------------------------\n",
      "campaign_outcome\n",
      "no     36548\n",
      "yes     4640\n",
      "Name: count, dtype: int64\n"
     ]
    }
   ],
   "source": [
    "for col in ['credit_default', 'mortgage', 'previous_outcome', 'campaign_outcome']:\n",
    "    print('---------------------------')\n",
    "    print(bank_df[col].value_counts())"
   ]
  },
  {
   "cell_type": "code",
   "execution_count": 6,
   "id": "c25fc10a-777e-4bf3-85d3-1bee19cb59d3",
   "metadata": {
    "executionCancelledAt": null,
    "executionTime": 77,
    "lastExecutedAt": 1756943994364,
    "lastExecutedByKernel": "df839e79-cead-4a38-9ed0-45991c1cfe5a",
    "lastScheduledRunId": null,
    "lastSuccessfullyExecutedCode": "# Replacing the columns values\nfor col in ['credit_default', 'mortgage', 'previous_outcome', 'campaign_outcome']:\n    bank_df[col] = bank_df[col].replace({'yes':1, 'unknown':0,'no':0,'success':1,'failure':0,'nonexistent':0})\n\nfor col in ['credit_default', 'mortgage', 'previous_outcome', 'campaign_outcome']:\n    print('---------------------------')\n    print(bank_df[col].value_counts())",
    "outputsMetadata": {
     "0": {
      "height": 353,
      "type": "stream"
     }
    }
   },
   "outputs": [
    {
     "name": "stdout",
     "output_type": "stream",
     "text": [
      "---------------------------\n",
      "credit_default\n",
      "0    41185\n",
      "1        3\n",
      "Name: count, dtype: int64\n",
      "---------------------------\n",
      "mortgage\n",
      "1    21576\n",
      "0    19612\n",
      "Name: count, dtype: int64\n",
      "---------------------------\n",
      "previous_outcome\n",
      "0    39815\n",
      "1     1373\n",
      "Name: count, dtype: int64\n",
      "---------------------------\n",
      "campaign_outcome\n",
      "0    36548\n",
      "1     4640\n",
      "Name: count, dtype: int64\n"
     ]
    },
    {
     "name": "stderr",
     "output_type": "stream",
     "text": [
      "C:\\Users\\Lenovo\\AppData\\Local\\Temp\\ipykernel_16472\\3252373357.py:3: FutureWarning: Downcasting behavior in `replace` is deprecated and will be removed in a future version. To retain the old behavior, explicitly call `result.infer_objects(copy=False)`. To opt-in to the future behavior, set `pd.set_option('future.no_silent_downcasting', True)`\n",
      "  bank_df[col] = bank_df[col].replace({'yes':1, 'unknown':0,'no':0,'success':1,'failure':0,'nonexistent':0}).astype(int)\n",
      "C:\\Users\\Lenovo\\AppData\\Local\\Temp\\ipykernel_16472\\3252373357.py:3: FutureWarning: Downcasting behavior in `replace` is deprecated and will be removed in a future version. To retain the old behavior, explicitly call `result.infer_objects(copy=False)`. To opt-in to the future behavior, set `pd.set_option('future.no_silent_downcasting', True)`\n",
      "  bank_df[col] = bank_df[col].replace({'yes':1, 'unknown':0,'no':0,'success':1,'failure':0,'nonexistent':0}).astype(int)\n",
      "C:\\Users\\Lenovo\\AppData\\Local\\Temp\\ipykernel_16472\\3252373357.py:3: FutureWarning: Downcasting behavior in `replace` is deprecated and will be removed in a future version. To retain the old behavior, explicitly call `result.infer_objects(copy=False)`. To opt-in to the future behavior, set `pd.set_option('future.no_silent_downcasting', True)`\n",
      "  bank_df[col] = bank_df[col].replace({'yes':1, 'unknown':0,'no':0,'success':1,'failure':0,'nonexistent':0}).astype(int)\n",
      "C:\\Users\\Lenovo\\AppData\\Local\\Temp\\ipykernel_16472\\3252373357.py:3: FutureWarning: Downcasting behavior in `replace` is deprecated and will be removed in a future version. To retain the old behavior, explicitly call `result.infer_objects(copy=False)`. To opt-in to the future behavior, set `pd.set_option('future.no_silent_downcasting', True)`\n",
      "  bank_df[col] = bank_df[col].replace({'yes':1, 'unknown':0,'no':0,'success':1,'failure':0,'nonexistent':0}).astype(int)\n"
     ]
    }
   ],
   "source": [
    "# Replacing the columns values\n",
    "for col in ['credit_default', 'mortgage', 'previous_outcome', 'campaign_outcome']:\n",
    "    bank_df[col] = bank_df[col].replace({'yes':1, 'unknown':0,'no':0,'success':1,'failure':0,'nonexistent':0}).astype(int)\n",
    "\n",
    "for col in ['credit_default', 'mortgage', 'previous_outcome', 'campaign_outcome']:\n",
    "    print('---------------------------')\n",
    "    print(bank_df[col].value_counts())"
   ]
  },
  {
   "cell_type": "code",
   "execution_count": 7,
   "id": "d2de1d5b-9206-4374-a603-2ea2bdd17d78",
   "metadata": {
    "executionCancelledAt": null,
    "executionTime": 54,
    "lastExecutedAt": 1756943994418,
    "lastExecutedByKernel": "df839e79-cead-4a38-9ed0-45991c1cfe5a",
    "lastScheduledRunId": null,
    "lastSuccessfullyExecutedCode": "# Converting to bool values\nfor col in ['credit_default', 'mortgage', 'previous_outcome', 'campaign_outcome']:\n    bank_df[col] = bank_df[col].astype(bool)",
    "outputsMetadata": {
     "0": {
      "height": 50,
      "tableState": {
       "customFilter": {
        "const": {
         "type": "boolean",
         "valid": true,
         "value": true
        },
        "id": "09e2c2ca-96a2-4b45-a3f5-753b950ba585",
        "nodeType": "const"
       }
      },
      "type": "dataFrame"
     }
    }
   },
   "outputs": [],
   "source": [
    "# Converting to bool values\n",
    "for col in ['credit_default', 'mortgage', 'previous_outcome', 'campaign_outcome']:\n",
    "    bank_df[col] = bank_df[col].astype(bool)"
   ]
  },
  {
   "cell_type": "code",
   "execution_count": 8,
   "id": "91338c37-15a7-4af3-8bb6-1f77b1cfc1a8",
   "metadata": {
    "executionCancelledAt": null,
    "executionTime": 63,
    "lastExecutedAt": 1756943994482,
    "lastExecutedByKernel": "df839e79-cead-4a38-9ed0-45991c1cfe5a",
    "lastScheduledRunId": null,
    "lastSuccessfullyExecutedCode": "# Changing the values in job and education column\nbank_df['job'] = bank_df['job'].str.replace(\".\", \"_\")\n\nbank_df['education'] = bank_df['education'].str.replace(\".\", \"_\")\nbank_df['education'] = bank_df['education'].replace(\"unknown\", np.nan)\n\nassert 'unknown' not in bank_df['education'].values",
    "outputsMetadata": {
     "0": {
      "height": 269,
      "type": "stream"
     }
    }
   },
   "outputs": [],
   "source": [
    "# Changing the values in job and education column\n",
    "bank_df['job'] = bank_df['job'].str.replace(\".\", \"_\")\n",
    "\n",
    "bank_df['education'] = bank_df['education'].str.replace(\".\", \"_\")\n",
    "bank_df['education'] = bank_df['education'].replace(\"unknown\", np.nan)\n",
    "\n",
    "assert 'unknown' not in bank_df['education'].values"
   ]
  },
  {
   "cell_type": "code",
   "execution_count": 9,
   "id": "8e2ffdc2-3181-4c43-93d7-98e5549ae061",
   "metadata": {
    "executionCancelledAt": null,
    "executionTime": 105,
    "lastExecutedAt": 1756943994588,
    "lastExecutedByKernel": "df839e79-cead-4a38-9ed0-45991c1cfe5a",
    "lastScheduledRunId": null,
    "lastSuccessfullyExecutedCode": "# Replacing month column in numbers\nbank_df['month'] = bank_df['month'].replace({\n    'may':5, 'jul':7, 'aug':8, 'jun':6, 'nov':11, 'apr':4, 'oct':10, 'sep':9, 'mar':3, 'dec':12})\n\n# Creating year column\nbank_df['year'] = 2022\n\n# Converting year, month and day column in string\nbank_df['month'] = bank_df['month'].astype(str)\nbank_df['year'] = bank_df['year'].astype(str)\nbank_df['day'] = bank_df['day'].astype(str)\n\n# Creating last contact date column\nbank_df['last_contact_date'] = pd.to_datetime(bank_df['year'] + '-' + bank_df['month'] + '-' + bank_df['day'])",
    "outputsMetadata": {
     "0": {
      "height": 50,
      "tableState": {
       "customFilter": {
        "const": {
         "type": "boolean",
         "valid": true,
         "value": true
        },
        "id": "09e2c2ca-96a2-4b45-a3f5-753b950ba585",
        "nodeType": "const"
       }
      },
      "type": "dataFrame"
     }
    }
   },
   "outputs": [
    {
     "name": "stderr",
     "output_type": "stream",
     "text": [
      "C:\\Users\\Lenovo\\AppData\\Local\\Temp\\ipykernel_16472\\3547177050.py:2: FutureWarning: Downcasting behavior in `replace` is deprecated and will be removed in a future version. To retain the old behavior, explicitly call `result.infer_objects(copy=False)`. To opt-in to the future behavior, set `pd.set_option('future.no_silent_downcasting', True)`\n",
      "  bank_df['month'] = bank_df['month'].replace({\n"
     ]
    }
   ],
   "source": [
    "# Replacing month column in numbers\n",
    "bank_df['month'] = bank_df['month'].replace({\n",
    "    'may':5, 'jul':7, 'aug':8, 'jun':6, 'nov':11, 'apr':4, 'oct':10, 'sep':9, 'mar':3, 'dec':12}).astype(int)\n",
    "\n",
    "# Creating year column\n",
    "bank_df['year'] = 2022\n",
    "\n",
    "# Converting year, month and day column in string\n",
    "bank_df['month'] = bank_df['month'].astype(str)\n",
    "bank_df['year'] = bank_df['year'].astype(str)\n",
    "bank_df['day'] = bank_df['day'].astype(str)\n",
    "\n",
    "# Creating last contact date column\n",
    "bank_df['last_contact_date'] = pd.to_datetime(bank_df['year'] + '-' + bank_df['month'] + '-' + bank_df['day'])"
   ]
  },
  {
   "cell_type": "code",
   "execution_count": 10,
   "id": "47033173-a074-489a-9099-fb2188f8420e",
   "metadata": {
    "executionCancelledAt": null,
    "executionTime": 49,
    "lastExecutedAt": 1756943994638,
    "lastExecutedByKernel": "df839e79-cead-4a38-9ed0-45991c1cfe5a",
    "lastScheduledRunId": null,
    "lastSuccessfullyExecutedCode": "client_df = bank_df[['client_id','age','job','marital','education','credit_default','mortgage']]\ncampaign_df = bank_df[['client_id','number_contacts','contact_duration','previous_campaign_contacts',\\\n                       'previous_outcome','campaign_outcome','last_contact_date']]\neconomics_df = bank_df[['client_id','cons_price_idx','euribor_three_months']]"
   },
   "outputs": [],
   "source": [
    "client_df = bank_df[['client_id','age','job','marital','education','credit_default','mortgage']]\n",
    "campaign_df = bank_df[['client_id','number_contacts','contact_duration','previous_campaign_contacts',\\\n",
    "'previous_outcome','campaign_outcome','last_contact_date']]\n",
    "economics_df = bank_df[['client_id','cons_price_idx','euribor_three_months']]"
   ]
  },
  {
   "cell_type": "code",
   "execution_count": 11,
   "id": "d6fb7050-f6e3-4711-a4e8-4f4904071f6c",
   "metadata": {
    "executionCancelledAt": null,
    "executionTime": 159,
    "lastExecutedAt": 1756943994798,
    "lastExecutedByKernel": "df839e79-cead-4a38-9ed0-45991c1cfe5a",
    "lastScheduledRunId": null,
    "lastSuccessfullyExecutedCode": "client = client_df.to_csv(\"client_df.csv\", index=False)"
   },
   "outputs": [],
   "source": [
    "client = client_df.to_csv(\"client_df.csv\", index=False)\n",
    "campaign = campaign_df.to_csv(\"campaign_df.csv\", index=False)\n",
    "economics = economics_df.to_csv(\"economics.csv\", index=False)"
   ]
  },
  {
   "cell_type": "code",
   "execution_count": 12,
   "id": "e7547659-6753-48d3-97ba-f727def3f087",
   "metadata": {
    "executionCancelledAt": null,
    "executionTime": 138,
    "lastExecutedAt": 1756943994938,
    "lastExecutedByKernel": "df839e79-cead-4a38-9ed0-45991c1cfe5a",
    "lastScheduledRunId": null,
    "lastSuccessfullyExecutedCode": "campaign = campaign_df.to_csv(\"campaign_df.csv\", index=False)"
   },
   "outputs": [
    {
     "data": {
      "text/html": [
       "<div>\n",
       "<style scoped>\n",
       "    .dataframe tbody tr th:only-of-type {\n",
       "        vertical-align: middle;\n",
       "    }\n",
       "\n",
       "    .dataframe tbody tr th {\n",
       "        vertical-align: top;\n",
       "    }\n",
       "\n",
       "    .dataframe thead th {\n",
       "        text-align: right;\n",
       "    }\n",
       "</style>\n",
       "<table border=\"1\" class=\"dataframe\">\n",
       "  <thead>\n",
       "    <tr style=\"text-align: right;\">\n",
       "      <th></th>\n",
       "      <th>client_id</th>\n",
       "      <th>age</th>\n",
       "      <th>job</th>\n",
       "      <th>marital</th>\n",
       "      <th>education</th>\n",
       "      <th>credit_default</th>\n",
       "      <th>mortgage</th>\n",
       "    </tr>\n",
       "  </thead>\n",
       "  <tbody>\n",
       "    <tr>\n",
       "      <th>0</th>\n",
       "      <td>0</td>\n",
       "      <td>56</td>\n",
       "      <td>housemaid</td>\n",
       "      <td>married</td>\n",
       "      <td>basic_4y</td>\n",
       "      <td>False</td>\n",
       "      <td>False</td>\n",
       "    </tr>\n",
       "    <tr>\n",
       "      <th>1</th>\n",
       "      <td>1</td>\n",
       "      <td>57</td>\n",
       "      <td>services</td>\n",
       "      <td>married</td>\n",
       "      <td>high_school</td>\n",
       "      <td>False</td>\n",
       "      <td>False</td>\n",
       "    </tr>\n",
       "    <tr>\n",
       "      <th>2</th>\n",
       "      <td>2</td>\n",
       "      <td>37</td>\n",
       "      <td>services</td>\n",
       "      <td>married</td>\n",
       "      <td>high_school</td>\n",
       "      <td>False</td>\n",
       "      <td>True</td>\n",
       "    </tr>\n",
       "    <tr>\n",
       "      <th>3</th>\n",
       "      <td>3</td>\n",
       "      <td>40</td>\n",
       "      <td>admin_</td>\n",
       "      <td>married</td>\n",
       "      <td>basic_6y</td>\n",
       "      <td>False</td>\n",
       "      <td>False</td>\n",
       "    </tr>\n",
       "    <tr>\n",
       "      <th>4</th>\n",
       "      <td>4</td>\n",
       "      <td>56</td>\n",
       "      <td>services</td>\n",
       "      <td>married</td>\n",
       "      <td>high_school</td>\n",
       "      <td>False</td>\n",
       "      <td>False</td>\n",
       "    </tr>\n",
       "  </tbody>\n",
       "</table>\n",
       "</div>"
      ],
      "text/plain": [
       "   client_id  age        job  marital    education  credit_default  mortgage\n",
       "0          0   56  housemaid  married     basic_4y           False     False\n",
       "1          1   57   services  married  high_school           False     False\n",
       "2          2   37   services  married  high_school           False      True\n",
       "3          3   40     admin_  married     basic_6y           False     False\n",
       "4          4   56   services  married  high_school           False     False"
      ]
     },
     "execution_count": 12,
     "metadata": {},
     "output_type": "execute_result"
    }
   ],
   "source": [
    "# Dataframe of client\n",
    "client_df.head()"
   ]
  },
  {
   "cell_type": "code",
   "execution_count": 13,
   "id": "65a94d0d-1c1d-4675-83c3-2763a2905c07",
   "metadata": {
    "executionCancelledAt": null,
    "executionTime": 120,
    "lastExecutedAt": 1756943995059,
    "lastExecutedByKernel": "df839e79-cead-4a38-9ed0-45991c1cfe5a",
    "lastScheduledRunId": null,
    "lastSuccessfullyExecutedCode": "economics = economics_df.to_csv(\"economics.csv\", index=False)"
   },
   "outputs": [
    {
     "data": {
      "text/html": [
       "<div>\n",
       "<style scoped>\n",
       "    .dataframe tbody tr th:only-of-type {\n",
       "        vertical-align: middle;\n",
       "    }\n",
       "\n",
       "    .dataframe tbody tr th {\n",
       "        vertical-align: top;\n",
       "    }\n",
       "\n",
       "    .dataframe thead th {\n",
       "        text-align: right;\n",
       "    }\n",
       "</style>\n",
       "<table border=\"1\" class=\"dataframe\">\n",
       "  <thead>\n",
       "    <tr style=\"text-align: right;\">\n",
       "      <th></th>\n",
       "      <th>client_id</th>\n",
       "      <th>number_contacts</th>\n",
       "      <th>contact_duration</th>\n",
       "      <th>previous_campaign_contacts</th>\n",
       "      <th>previous_outcome</th>\n",
       "      <th>campaign_outcome</th>\n",
       "      <th>last_contact_date</th>\n",
       "    </tr>\n",
       "  </thead>\n",
       "  <tbody>\n",
       "    <tr>\n",
       "      <th>0</th>\n",
       "      <td>0</td>\n",
       "      <td>1</td>\n",
       "      <td>261</td>\n",
       "      <td>0</td>\n",
       "      <td>False</td>\n",
       "      <td>False</td>\n",
       "      <td>2022-05-13</td>\n",
       "    </tr>\n",
       "    <tr>\n",
       "      <th>1</th>\n",
       "      <td>1</td>\n",
       "      <td>1</td>\n",
       "      <td>149</td>\n",
       "      <td>0</td>\n",
       "      <td>False</td>\n",
       "      <td>False</td>\n",
       "      <td>2022-05-19</td>\n",
       "    </tr>\n",
       "    <tr>\n",
       "      <th>2</th>\n",
       "      <td>2</td>\n",
       "      <td>1</td>\n",
       "      <td>226</td>\n",
       "      <td>0</td>\n",
       "      <td>False</td>\n",
       "      <td>False</td>\n",
       "      <td>2022-05-23</td>\n",
       "    </tr>\n",
       "    <tr>\n",
       "      <th>3</th>\n",
       "      <td>3</td>\n",
       "      <td>1</td>\n",
       "      <td>151</td>\n",
       "      <td>0</td>\n",
       "      <td>False</td>\n",
       "      <td>False</td>\n",
       "      <td>2022-05-27</td>\n",
       "    </tr>\n",
       "    <tr>\n",
       "      <th>4</th>\n",
       "      <td>4</td>\n",
       "      <td>1</td>\n",
       "      <td>307</td>\n",
       "      <td>0</td>\n",
       "      <td>False</td>\n",
       "      <td>False</td>\n",
       "      <td>2022-05-03</td>\n",
       "    </tr>\n",
       "  </tbody>\n",
       "</table>\n",
       "</div>"
      ],
      "text/plain": [
       "   client_id  number_contacts  contact_duration  previous_campaign_contacts  \\\n",
       "0          0                1               261                           0   \n",
       "1          1                1               149                           0   \n",
       "2          2                1               226                           0   \n",
       "3          3                1               151                           0   \n",
       "4          4                1               307                           0   \n",
       "\n",
       "   previous_outcome  campaign_outcome last_contact_date  \n",
       "0             False             False        2022-05-13  \n",
       "1             False             False        2022-05-19  \n",
       "2             False             False        2022-05-23  \n",
       "3             False             False        2022-05-27  \n",
       "4             False             False        2022-05-03  "
      ]
     },
     "execution_count": 13,
     "metadata": {},
     "output_type": "execute_result"
    }
   ],
   "source": [
    "# Dataframe of campaign\n",
    "campaign_df.head()"
   ]
  },
  {
   "cell_type": "code",
   "execution_count": 14,
   "id": "0cdbdb44",
   "metadata": {},
   "outputs": [
    {
     "data": {
      "text/html": [
       "<div>\n",
       "<style scoped>\n",
       "    .dataframe tbody tr th:only-of-type {\n",
       "        vertical-align: middle;\n",
       "    }\n",
       "\n",
       "    .dataframe tbody tr th {\n",
       "        vertical-align: top;\n",
       "    }\n",
       "\n",
       "    .dataframe thead th {\n",
       "        text-align: right;\n",
       "    }\n",
       "</style>\n",
       "<table border=\"1\" class=\"dataframe\">\n",
       "  <thead>\n",
       "    <tr style=\"text-align: right;\">\n",
       "      <th></th>\n",
       "      <th>client_id</th>\n",
       "      <th>cons_price_idx</th>\n",
       "      <th>euribor_three_months</th>\n",
       "    </tr>\n",
       "  </thead>\n",
       "  <tbody>\n",
       "    <tr>\n",
       "      <th>0</th>\n",
       "      <td>0</td>\n",
       "      <td>93.994</td>\n",
       "      <td>4.857</td>\n",
       "    </tr>\n",
       "    <tr>\n",
       "      <th>1</th>\n",
       "      <td>1</td>\n",
       "      <td>93.994</td>\n",
       "      <td>4.857</td>\n",
       "    </tr>\n",
       "    <tr>\n",
       "      <th>2</th>\n",
       "      <td>2</td>\n",
       "      <td>93.994</td>\n",
       "      <td>4.857</td>\n",
       "    </tr>\n",
       "    <tr>\n",
       "      <th>3</th>\n",
       "      <td>3</td>\n",
       "      <td>93.994</td>\n",
       "      <td>4.857</td>\n",
       "    </tr>\n",
       "    <tr>\n",
       "      <th>4</th>\n",
       "      <td>4</td>\n",
       "      <td>93.994</td>\n",
       "      <td>4.857</td>\n",
       "    </tr>\n",
       "  </tbody>\n",
       "</table>\n",
       "</div>"
      ],
      "text/plain": [
       "   client_id  cons_price_idx  euribor_three_months\n",
       "0          0          93.994                 4.857\n",
       "1          1          93.994                 4.857\n",
       "2          2          93.994                 4.857\n",
       "3          3          93.994                 4.857\n",
       "4          4          93.994                 4.857"
      ]
     },
     "execution_count": 14,
     "metadata": {},
     "output_type": "execute_result"
    }
   ],
   "source": [
    "# Dataframe of economics\n",
    "economics_df.head()"
   ]
  },
  {
   "cell_type": "markdown",
   "id": "327f8297",
   "metadata": {},
   "source": [
    "### Analysis"
   ]
  },
  {
   "cell_type": "markdown",
   "id": "0ffcdc4e",
   "metadata": {},
   "source": [
    "#### Customer profiles"
   ]
  },
  {
   "cell_type": "code",
   "execution_count": 33,
   "id": "1e786aff",
   "metadata": {},
   "outputs": [
    {
     "data": {
      "text/plain": [
       "job\n",
       "technician    2\n",
       "unemployed    1\n",
       "Name: count, dtype: int64"
      ]
     },
     "execution_count": 33,
     "metadata": {},
     "output_type": "execute_result"
    }
   ],
   "source": [
    "# Credit default by job \n",
    "credits_defaults = client_df[client_df['credit_default'] == True]\n",
    "job_credits_default = credits_defaults['job'].value_counts()\n",
    "job_credits_default"
   ]
  },
  {
   "cell_type": "code",
   "execution_count": 34,
   "id": "d1df4ef9",
   "metadata": {},
   "outputs": [
    {
     "data": {
      "text/plain": [
       "job\n",
       "admin_           10422\n",
       "blue-collar       9254\n",
       "technician        6741\n",
       "services          3969\n",
       "management        2924\n",
       "retired           1720\n",
       "entrepreneur      1456\n",
       "self-employed     1421\n",
       "housemaid         1060\n",
       "unemployed        1013\n",
       "student            875\n",
       "unknown            330\n",
       "Name: count, dtype: int64"
      ]
     },
     "execution_count": 34,
     "metadata": {},
     "output_type": "execute_result"
    }
   ],
   "source": [
    "# Credits awarded by job \n",
    "credits_granted = client_df[client_df['credit_default'] == False]\n",
    "job_credits_granted = credits_granted['job'].value_counts()\n",
    "job_credits_granted"
   ]
  },
  {
   "cell_type": "code",
   "execution_count": 35,
   "id": "4eee375f",
   "metadata": {},
   "outputs": [
    {
     "data": {
      "text/plain": [
       "age\n",
       "48    2\n",
       "31    1\n",
       "Name: count, dtype: int64"
      ]
     },
     "execution_count": 35,
     "metadata": {},
     "output_type": "execute_result"
    }
   ],
   "source": [
    "# Credit default by age\n",
    "age_credits_default = credits_defaults['age'].value_counts()\n",
    "age_credits_default"
   ]
  },
  {
   "cell_type": "code",
   "execution_count": 36,
   "id": "ffd61828",
   "metadata": {},
   "outputs": [
    {
     "data": {
      "text/plain": [
       "age\n",
       "31    1946\n",
       "32    1846\n",
       "33    1833\n",
       "36    1780\n",
       "35    1759\n",
       "      ... \n",
       "91       2\n",
       "98       2\n",
       "95       1\n",
       "87       1\n",
       "94       1\n",
       "Name: count, Length: 78, dtype: int64"
      ]
     },
     "execution_count": 36,
     "metadata": {},
     "output_type": "execute_result"
    }
   ],
   "source": [
    "# Credits awarded by age\n",
    "age_credits_granted = credits_granted['age'].value_counts()\n",
    "age_credits_granted"
   ]
  },
  {
   "cell_type": "code",
   "execution_count": 37,
   "id": "b310dae7",
   "metadata": {},
   "outputs": [
    {
     "data": {
      "text/plain": [
       "marital\n",
       "married    3\n",
       "Name: count, dtype: int64"
      ]
     },
     "execution_count": 37,
     "metadata": {},
     "output_type": "execute_result"
    }
   ],
   "source": [
    "# Credit default by marital status\n",
    "marital_credits_default = credits_defaults['marital'].value_counts()\n",
    "marital_credits_default"
   ]
  },
  {
   "cell_type": "code",
   "execution_count": 39,
   "id": "965d44bf",
   "metadata": {},
   "outputs": [
    {
     "data": {
      "text/plain": [
       "marital\n",
       "married     24925\n",
       "single      11568\n",
       "divorced     4612\n",
       "unknown        80\n",
       "Name: count, dtype: int64"
      ]
     },
     "execution_count": 39,
     "metadata": {},
     "output_type": "execute_result"
    }
   ],
   "source": [
    "# Credits awarded by marital status\n",
    "marital_credits_granted = credits_granted['marital'].value_counts()\n",
    "marital_credits_granted"
   ]
  },
  {
   "cell_type": "code",
   "execution_count": 40,
   "id": "140c9a45",
   "metadata": {},
   "outputs": [
    {
     "data": {
      "text/plain": [
       "education\n",
       "professional_course    2\n",
       "high_school            1\n",
       "Name: count, dtype: int64"
      ]
     },
     "execution_count": 40,
     "metadata": {},
     "output_type": "execute_result"
    }
   ],
   "source": [
    "# Credit default by education\n",
    "education_credits_default = credits_defaults['education'].value_counts()\n",
    "education_credits_default"
   ]
  },
  {
   "cell_type": "code",
   "execution_count": 41,
   "id": "bdadd486",
   "metadata": {},
   "outputs": [
    {
     "data": {
      "text/plain": [
       "education\n",
       "university_degree      12168\n",
       "high_school             9514\n",
       "basic_9y                6045\n",
       "professional_course     5241\n",
       "basic_4y                4176\n",
       "basic_6y                2292\n",
       "illiterate                18\n",
       "Name: count, dtype: int64"
      ]
     },
     "execution_count": 41,
     "metadata": {},
     "output_type": "execute_result"
    }
   ],
   "source": [
    "# Credits awarded by education\n",
    "education_credits_granted = credits_granted['education'].value_counts()\n",
    "education_credits_granted"
   ]
  },
  {
   "cell_type": "code",
   "execution_count": 49,
   "id": "ef8203fe",
   "metadata": {},
   "outputs": [
    {
     "data": {
      "text/plain": [
       "mortgage\n",
       "False    2\n",
       "True     1\n",
       "Name: count, dtype: int64"
      ]
     },
     "execution_count": 49,
     "metadata": {},
     "output_type": "execute_result"
    }
   ],
   "source": [
    "# Credit default and mortage\n",
    "mortgage_credits_default = credits_defaults['mortgage'].value_counts()\n",
    "mortgage_credits_default"
   ]
  },
  {
   "cell_type": "code",
   "execution_count": 48,
   "id": "93948098",
   "metadata": {},
   "outputs": [
    {
     "data": {
      "text/plain": [
       "mortgage\n",
       "True     21575\n",
       "False    19610\n",
       "Name: count, dtype: int64"
      ]
     },
     "execution_count": 48,
     "metadata": {},
     "output_type": "execute_result"
    }
   ],
   "source": [
    "# Credits awarded and mortgage\n",
    "mortgage_credits_granted = credits_granted['mortgage'].value_counts()\n",
    "mortgage_credits_granted"
   ]
  }
 ],
 "metadata": {
  "editor": "DataCamp Workspace",
  "kernelspec": {
   "display_name": "Python 3",
   "language": "python",
   "name": "python3"
  },
  "language_info": {
   "codemirror_mode": {
    "name": "ipython",
    "version": 3
   },
   "file_extension": ".py",
   "mimetype": "text/x-python",
   "name": "python",
   "nbconvert_exporter": "python",
   "pygments_lexer": "ipython3",
   "version": "3.13.3"
  }
 },
 "nbformat": 4,
 "nbformat_minor": 5
}
