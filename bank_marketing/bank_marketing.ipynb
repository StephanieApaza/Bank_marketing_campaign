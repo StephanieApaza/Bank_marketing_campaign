{
 "cells": [
  {
   "cell_type": "markdown",
   "id": "b2203cd3",
   "metadata": {},
   "source": [
    "### Cleaning of data"
   ]
  },
  {
   "cell_type": "code",
   "execution_count": 158,
   "id": "e2edad3c-8286-4983-b5b7-35d94fd78023",
   "metadata": {
    "executionCancelledAt": null,
    "executionTime": 49,
    "lastExecutedAt": 1756943994082,
    "lastExecutedByKernel": "df839e79-cead-4a38-9ed0-45991c1cfe5a",
    "lastScheduledRunId": null,
    "lastSuccessfullyExecutedCode": "import pandas as pd\nimport numpy as np"
   },
   "outputs": [],
   "source": [
    "import pandas as pd\n",
    "import numpy as np\n",
    "import matplotlib.pyplot as plt\n",
    "from matplotlib.ticker import MultipleLocator\n",
    "import seaborn as sns"
   ]
  },
  {
   "cell_type": "code",
   "execution_count": 159,
   "id": "52588f46",
   "metadata": {},
   "outputs": [],
   "source": [
    "sns.set_style('darkgrid')\n",
    "colors = ['#1565c0', '#862C92', '#00BCD4', '#2196f3','#64b5f6', '#90caf9', '#bbdefb', '#004173']\n",
    "sns.set_palette(colors)"
   ]
  },
  {
   "cell_type": "code",
   "execution_count": 160,
   "id": "3963a17a-9ba4-457e-9f34-b854cf57140b",
   "metadata": {
    "executionCancelledAt": null,
    "executionTime": 82,
    "lastExecutedAt": 1756943994165,
    "lastExecutedByKernel": "df839e79-cead-4a38-9ed0-45991c1cfe5a",
    "lastScheduledRunId": null,
    "lastSuccessfullyExecutedCode": "bank_df = pd.read_csv('bank_marketing.csv')\nbank_df.head()",
    "outputsMetadata": {
     "0": {
      "height": 264,
      "tableState": {
       "customFilter": {
        "const": {
         "type": "boolean",
         "valid": true,
         "value": true
        },
        "id": "09e2c2ca-96a2-4b45-a3f5-753b950ba585",
        "nodeType": "const"
       }
      },
      "type": "dataFrame"
     }
    }
   },
   "outputs": [
    {
     "data": {
      "text/html": [
       "<div>\n",
       "<style scoped>\n",
       "    .dataframe tbody tr th:only-of-type {\n",
       "        vertical-align: middle;\n",
       "    }\n",
       "\n",
       "    .dataframe tbody tr th {\n",
       "        vertical-align: top;\n",
       "    }\n",
       "\n",
       "    .dataframe thead th {\n",
       "        text-align: right;\n",
       "    }\n",
       "</style>\n",
       "<table border=\"1\" class=\"dataframe\">\n",
       "  <thead>\n",
       "    <tr style=\"text-align: right;\">\n",
       "      <th></th>\n",
       "      <th>client_id</th>\n",
       "      <th>age</th>\n",
       "      <th>job</th>\n",
       "      <th>marital</th>\n",
       "      <th>education</th>\n",
       "      <th>credit_default</th>\n",
       "      <th>mortgage</th>\n",
       "      <th>month</th>\n",
       "      <th>day</th>\n",
       "      <th>contact_duration</th>\n",
       "      <th>number_contacts</th>\n",
       "      <th>previous_campaign_contacts</th>\n",
       "      <th>previous_outcome</th>\n",
       "      <th>cons_price_idx</th>\n",
       "      <th>euribor_three_months</th>\n",
       "      <th>campaign_outcome</th>\n",
       "    </tr>\n",
       "  </thead>\n",
       "  <tbody>\n",
       "    <tr>\n",
       "      <th>0</th>\n",
       "      <td>0</td>\n",
       "      <td>56</td>\n",
       "      <td>housemaid</td>\n",
       "      <td>married</td>\n",
       "      <td>basic.4y</td>\n",
       "      <td>no</td>\n",
       "      <td>no</td>\n",
       "      <td>may</td>\n",
       "      <td>13</td>\n",
       "      <td>261</td>\n",
       "      <td>1</td>\n",
       "      <td>0</td>\n",
       "      <td>nonexistent</td>\n",
       "      <td>93.994</td>\n",
       "      <td>4.857</td>\n",
       "      <td>no</td>\n",
       "    </tr>\n",
       "    <tr>\n",
       "      <th>1</th>\n",
       "      <td>1</td>\n",
       "      <td>57</td>\n",
       "      <td>services</td>\n",
       "      <td>married</td>\n",
       "      <td>high.school</td>\n",
       "      <td>unknown</td>\n",
       "      <td>no</td>\n",
       "      <td>may</td>\n",
       "      <td>19</td>\n",
       "      <td>149</td>\n",
       "      <td>1</td>\n",
       "      <td>0</td>\n",
       "      <td>nonexistent</td>\n",
       "      <td>93.994</td>\n",
       "      <td>4.857</td>\n",
       "      <td>no</td>\n",
       "    </tr>\n",
       "    <tr>\n",
       "      <th>2</th>\n",
       "      <td>2</td>\n",
       "      <td>37</td>\n",
       "      <td>services</td>\n",
       "      <td>married</td>\n",
       "      <td>high.school</td>\n",
       "      <td>no</td>\n",
       "      <td>yes</td>\n",
       "      <td>may</td>\n",
       "      <td>23</td>\n",
       "      <td>226</td>\n",
       "      <td>1</td>\n",
       "      <td>0</td>\n",
       "      <td>nonexistent</td>\n",
       "      <td>93.994</td>\n",
       "      <td>4.857</td>\n",
       "      <td>no</td>\n",
       "    </tr>\n",
       "    <tr>\n",
       "      <th>3</th>\n",
       "      <td>3</td>\n",
       "      <td>40</td>\n",
       "      <td>admin.</td>\n",
       "      <td>married</td>\n",
       "      <td>basic.6y</td>\n",
       "      <td>no</td>\n",
       "      <td>no</td>\n",
       "      <td>may</td>\n",
       "      <td>27</td>\n",
       "      <td>151</td>\n",
       "      <td>1</td>\n",
       "      <td>0</td>\n",
       "      <td>nonexistent</td>\n",
       "      <td>93.994</td>\n",
       "      <td>4.857</td>\n",
       "      <td>no</td>\n",
       "    </tr>\n",
       "    <tr>\n",
       "      <th>4</th>\n",
       "      <td>4</td>\n",
       "      <td>56</td>\n",
       "      <td>services</td>\n",
       "      <td>married</td>\n",
       "      <td>high.school</td>\n",
       "      <td>no</td>\n",
       "      <td>no</td>\n",
       "      <td>may</td>\n",
       "      <td>3</td>\n",
       "      <td>307</td>\n",
       "      <td>1</td>\n",
       "      <td>0</td>\n",
       "      <td>nonexistent</td>\n",
       "      <td>93.994</td>\n",
       "      <td>4.857</td>\n",
       "      <td>no</td>\n",
       "    </tr>\n",
       "  </tbody>\n",
       "</table>\n",
       "</div>"
      ],
      "text/plain": [
       "   client_id  age        job  marital    education credit_default mortgage  \\\n",
       "0          0   56  housemaid  married     basic.4y             no       no   \n",
       "1          1   57   services  married  high.school        unknown       no   \n",
       "2          2   37   services  married  high.school             no      yes   \n",
       "3          3   40     admin.  married     basic.6y             no       no   \n",
       "4          4   56   services  married  high.school             no       no   \n",
       "\n",
       "  month  day  contact_duration  number_contacts  previous_campaign_contacts  \\\n",
       "0   may   13               261                1                           0   \n",
       "1   may   19               149                1                           0   \n",
       "2   may   23               226                1                           0   \n",
       "3   may   27               151                1                           0   \n",
       "4   may    3               307                1                           0   \n",
       "\n",
       "  previous_outcome  cons_price_idx  euribor_three_months campaign_outcome  \n",
       "0      nonexistent          93.994                 4.857               no  \n",
       "1      nonexistent          93.994                 4.857               no  \n",
       "2      nonexistent          93.994                 4.857               no  \n",
       "3      nonexistent          93.994                 4.857               no  \n",
       "4      nonexistent          93.994                 4.857               no  "
      ]
     },
     "execution_count": 160,
     "metadata": {},
     "output_type": "execute_result"
    }
   ],
   "source": [
    "bank_df = pd.read_csv('bank_marketing.csv')\n",
    "bank_df.head()"
   ]
  },
  {
   "cell_type": "code",
   "execution_count": 161,
   "id": "be741489-57b3-48d3-ace2-c737e595dd8d",
   "metadata": {
    "executionCancelledAt": null,
    "executionTime": 73,
    "lastExecutedAt": 1756943994238,
    "lastExecutedByKernel": "df839e79-cead-4a38-9ed0-45991c1cfe5a",
    "lastScheduledRunId": null,
    "lastSuccessfullyExecutedCode": "bank_df.dtypes"
   },
   "outputs": [
    {
     "data": {
      "text/plain": [
       "client_id                       int64\n",
       "age                             int64\n",
       "job                            object\n",
       "marital                        object\n",
       "education                      object\n",
       "credit_default                 object\n",
       "mortgage                       object\n",
       "month                          object\n",
       "day                             int64\n",
       "contact_duration                int64\n",
       "number_contacts                 int64\n",
       "previous_campaign_contacts      int64\n",
       "previous_outcome               object\n",
       "cons_price_idx                float64\n",
       "euribor_three_months          float64\n",
       "campaign_outcome               object\n",
       "dtype: object"
      ]
     },
     "execution_count": 161,
     "metadata": {},
     "output_type": "execute_result"
    }
   ],
   "source": [
    "bank_df.dtypes"
   ]
  },
  {
   "cell_type": "code",
   "execution_count": 162,
   "id": "58be27da-eb3f-4974-9d5f-10762483171e",
   "metadata": {
    "executionCancelledAt": null,
    "executionTime": 48,
    "lastExecutedAt": 1756943994287,
    "lastExecutedByKernel": "df839e79-cead-4a38-9ed0-45991c1cfe5a",
    "lastScheduledRunId": null,
    "lastSuccessfullyExecutedCode": "for col in ['credit_default', 'mortgage', 'previous_outcome', 'campaign_outcome']:\n    print('---------------------------')\n    print(bank_df[col].value_counts())",
    "outputsMetadata": {
     "0": {
      "height": 416,
      "type": "stream"
     }
    }
   },
   "outputs": [
    {
     "name": "stdout",
     "output_type": "stream",
     "text": [
      "---------------------------\n",
      "credit_default\n",
      "no         32588\n",
      "unknown     8597\n",
      "yes            3\n",
      "Name: count, dtype: int64\n",
      "---------------------------\n",
      "mortgage\n",
      "yes        21576\n",
      "no         18622\n",
      "unknown      990\n",
      "Name: count, dtype: int64\n",
      "---------------------------\n",
      "previous_outcome\n",
      "nonexistent    35563\n",
      "failure         4252\n",
      "success         1373\n",
      "Name: count, dtype: int64\n",
      "---------------------------\n",
      "campaign_outcome\n",
      "no     36548\n",
      "yes     4640\n",
      "Name: count, dtype: int64\n"
     ]
    }
   ],
   "source": [
    "for col in ['credit_default', 'mortgage', 'previous_outcome', 'campaign_outcome']:\n",
    "    print('---------------------------')\n",
    "    print(bank_df[col].value_counts())"
   ]
  },
  {
   "cell_type": "code",
   "execution_count": null,
   "id": "c25fc10a-777e-4bf3-85d3-1bee19cb59d3",
   "metadata": {
    "executionCancelledAt": null,
    "executionTime": 77,
    "lastExecutedAt": 1756943994364,
    "lastExecutedByKernel": "df839e79-cead-4a38-9ed0-45991c1cfe5a",
    "lastScheduledRunId": null,
    "lastSuccessfullyExecutedCode": "# Replacing the columns values\nfor col in ['credit_default', 'mortgage', 'previous_outcome', 'campaign_outcome']:\n    bank_df[col] = bank_df[col].replace({'yes':1, 'unknown':0,'no':0,'success':1,'failure':0,'nonexistent':0})\n\nfor col in ['credit_default', 'mortgage', 'previous_outcome', 'campaign_outcome']:\n    print('---------------------------')\n    print(bank_df[col].value_counts())",
    "outputsMetadata": {
     "0": {
      "height": 353,
      "type": "stream"
     }
    }
   },
   "outputs": [],
   "source": [
    "# Replacing the columns values\n",
    "columns_replace = ['credit_default','mortgage','previous_outcome','campaign_outcome']\n",
    "\n",
    "for col in columns_replace:\n",
    "    bank_df[col] = bank_df[col].astype(str)\n",
    "    \n",
    "replace_dict = {'yes':1, 'unknown':0,'no':0,'success':1,'failure':0,'nonexistent':0}\n",
    "\n",
    "for col in columns_replace:\n",
    "    bank_df[col] = bank_df[col].replace(replace_dict)\n",
    "\n",
    "for col in columns_replace:\n",
    "    bank_df[col] = bank_df[col].astype(int)"
   ]
  },
  {
   "cell_type": "code",
   "execution_count": 164,
   "id": "d2de1d5b-9206-4374-a603-2ea2bdd17d78",
   "metadata": {
    "executionCancelledAt": null,
    "executionTime": 54,
    "lastExecutedAt": 1756943994418,
    "lastExecutedByKernel": "df839e79-cead-4a38-9ed0-45991c1cfe5a",
    "lastScheduledRunId": null,
    "lastSuccessfullyExecutedCode": "# Converting to bool values\nfor col in ['credit_default', 'mortgage', 'previous_outcome', 'campaign_outcome']:\n    bank_df[col] = bank_df[col].astype(bool)",
    "outputsMetadata": {
     "0": {
      "height": 50,
      "tableState": {
       "customFilter": {
        "const": {
         "type": "boolean",
         "valid": true,
         "value": true
        },
        "id": "09e2c2ca-96a2-4b45-a3f5-753b950ba585",
        "nodeType": "const"
       }
      },
      "type": "dataFrame"
     }
    }
   },
   "outputs": [],
   "source": [
    "# Converting to bool values\n",
    "for col in ['credit_default', 'mortgage', 'previous_outcome', 'campaign_outcome']:\n",
    "    bank_df[col] = bank_df[col].astype(bool)"
   ]
  },
  {
   "cell_type": "code",
   "execution_count": 165,
   "id": "91338c37-15a7-4af3-8bb6-1f77b1cfc1a8",
   "metadata": {
    "executionCancelledAt": null,
    "executionTime": 63,
    "lastExecutedAt": 1756943994482,
    "lastExecutedByKernel": "df839e79-cead-4a38-9ed0-45991c1cfe5a",
    "lastScheduledRunId": null,
    "lastSuccessfullyExecutedCode": "# Changing the values in job and education column\nbank_df['job'] = bank_df['job'].str.replace(\".\", \"_\")\n\nbank_df['education'] = bank_df['education'].str.replace(\".\", \"_\")\nbank_df['education'] = bank_df['education'].replace(\"unknown\", np.nan)\n\nassert 'unknown' not in bank_df['education'].values",
    "outputsMetadata": {
     "0": {
      "height": 269,
      "type": "stream"
     }
    }
   },
   "outputs": [],
   "source": [
    "# Changing the values in job and education column\n",
    "bank_df['job'] = bank_df['job'].str.replace(\".\", \"_\")\n",
    "\n",
    "bank_df['education'] = bank_df['education'].str.replace(\".\", \"_\")\n",
    "bank_df['education'] = bank_df['education'].replace(\"unknown\", np.nan)\n",
    "\n",
    "assert 'unknown' not in bank_df['education'].values"
   ]
  },
  {
   "cell_type": "code",
   "execution_count": null,
   "id": "8e2ffdc2-3181-4c43-93d7-98e5549ae061",
   "metadata": {
    "executionCancelledAt": null,
    "executionTime": 105,
    "lastExecutedAt": 1756943994588,
    "lastExecutedByKernel": "df839e79-cead-4a38-9ed0-45991c1cfe5a",
    "lastScheduledRunId": null,
    "lastSuccessfullyExecutedCode": "# Replacing month column in numbers\nbank_df['month'] = bank_df['month'].replace({\n    'may':5, 'jul':7, 'aug':8, 'jun':6, 'nov':11, 'apr':4, 'oct':10, 'sep':9, 'mar':3, 'dec':12})\n\n# Creating year column\nbank_df['year'] = 2022\n\n# Converting year, month and day column in string\nbank_df['month'] = bank_df['month'].astype(str)\nbank_df['year'] = bank_df['year'].astype(str)\nbank_df['day'] = bank_df['day'].astype(str)\n\n# Creating last contact date column\nbank_df['last_contact_date'] = pd.to_datetime(bank_df['year'] + '-' + bank_df['month'] + '-' + bank_df['day'])",
    "outputsMetadata": {
     "0": {
      "height": 50,
      "tableState": {
       "customFilter": {
        "const": {
         "type": "boolean",
         "valid": true,
         "value": true
        },
        "id": "09e2c2ca-96a2-4b45-a3f5-753b950ba585",
        "nodeType": "const"
       }
      },
      "type": "dataFrame"
     }
    }
   },
   "outputs": [],
   "source": [
    "# Replacing month column in numbers\n",
    "bank_df['month'] = bank_df['month'].replace({\n",
    "    'may':5, 'jul':7, 'aug':8, 'jun':6, 'nov':11, 'apr':4, 'oct':10, 'sep':9, 'mar':3, 'dec':12}).astype(int)\n",
    "\n",
    "# Creating year column\n",
    "bank_df['year'] = 2022\n",
    "\n",
    "# Converting year, month and day column in string\n",
    "bank_df['month'] = bank_df['month'].astype(str)\n",
    "bank_df['year'] = bank_df['year'].astype(str)\n",
    "bank_df['day'] = bank_df['day'].astype(str)\n",
    "\n",
    "# Creating last contact date column\n",
    "bank_df['last_contact_date'] = pd.to_datetime(bank_df['year'] + '-' + bank_df['month'] + '-' + bank_df['day'])"
   ]
  },
  {
   "cell_type": "code",
   "execution_count": 167,
   "id": "47033173-a074-489a-9099-fb2188f8420e",
   "metadata": {
    "executionCancelledAt": null,
    "executionTime": 49,
    "lastExecutedAt": 1756943994638,
    "lastExecutedByKernel": "df839e79-cead-4a38-9ed0-45991c1cfe5a",
    "lastScheduledRunId": null,
    "lastSuccessfullyExecutedCode": "client_df = bank_df[['client_id','age','job','marital','education','credit_default','mortgage']]\ncampaign_df = bank_df[['client_id','number_contacts','contact_duration','previous_campaign_contacts',\\\n                       'previous_outcome','campaign_outcome','last_contact_date']]\neconomics_df = bank_df[['client_id','cons_price_idx','euribor_three_months']]"
   },
   "outputs": [],
   "source": [
    "client_df = bank_df[['client_id','age','job','marital','education','credit_default','mortgage']]\n",
    "campaign_df = bank_df[['client_id','number_contacts','contact_duration','previous_campaign_contacts',\\\n",
    "'previous_outcome','campaign_outcome','last_contact_date']]\n",
    "economics_df = bank_df[['client_id','cons_price_idx','euribor_three_months']]"
   ]
  },
  {
   "cell_type": "code",
   "execution_count": 168,
   "id": "d6fb7050-f6e3-4711-a4e8-4f4904071f6c",
   "metadata": {
    "executionCancelledAt": null,
    "executionTime": 159,
    "lastExecutedAt": 1756943994798,
    "lastExecutedByKernel": "df839e79-cead-4a38-9ed0-45991c1cfe5a",
    "lastScheduledRunId": null,
    "lastSuccessfullyExecutedCode": "client = client_df.to_csv(\"client_df.csv\", index=False)"
   },
   "outputs": [],
   "source": [
    "client = client_df.to_csv(\"client_df.csv\", index=False)\n",
    "campaign = campaign_df.to_csv(\"campaign_df.csv\", index=False)\n",
    "economics = economics_df.to_csv(\"economics.csv\", index=False)"
   ]
  },
  {
   "cell_type": "code",
   "execution_count": 169,
   "id": "e7547659-6753-48d3-97ba-f727def3f087",
   "metadata": {
    "executionCancelledAt": null,
    "executionTime": 138,
    "lastExecutedAt": 1756943994938,
    "lastExecutedByKernel": "df839e79-cead-4a38-9ed0-45991c1cfe5a",
    "lastScheduledRunId": null,
    "lastSuccessfullyExecutedCode": "campaign = campaign_df.to_csv(\"campaign_df.csv\", index=False)"
   },
   "outputs": [
    {
     "data": {
      "text/html": [
       "<div>\n",
       "<style scoped>\n",
       "    .dataframe tbody tr th:only-of-type {\n",
       "        vertical-align: middle;\n",
       "    }\n",
       "\n",
       "    .dataframe tbody tr th {\n",
       "        vertical-align: top;\n",
       "    }\n",
       "\n",
       "    .dataframe thead th {\n",
       "        text-align: right;\n",
       "    }\n",
       "</style>\n",
       "<table border=\"1\" class=\"dataframe\">\n",
       "  <thead>\n",
       "    <tr style=\"text-align: right;\">\n",
       "      <th></th>\n",
       "      <th>client_id</th>\n",
       "      <th>age</th>\n",
       "      <th>job</th>\n",
       "      <th>marital</th>\n",
       "      <th>education</th>\n",
       "      <th>credit_default</th>\n",
       "      <th>mortgage</th>\n",
       "    </tr>\n",
       "  </thead>\n",
       "  <tbody>\n",
       "    <tr>\n",
       "      <th>0</th>\n",
       "      <td>0</td>\n",
       "      <td>56</td>\n",
       "      <td>housemaid</td>\n",
       "      <td>married</td>\n",
       "      <td>basic_4y</td>\n",
       "      <td>False</td>\n",
       "      <td>False</td>\n",
       "    </tr>\n",
       "    <tr>\n",
       "      <th>1</th>\n",
       "      <td>1</td>\n",
       "      <td>57</td>\n",
       "      <td>services</td>\n",
       "      <td>married</td>\n",
       "      <td>high_school</td>\n",
       "      <td>False</td>\n",
       "      <td>False</td>\n",
       "    </tr>\n",
       "    <tr>\n",
       "      <th>2</th>\n",
       "      <td>2</td>\n",
       "      <td>37</td>\n",
       "      <td>services</td>\n",
       "      <td>married</td>\n",
       "      <td>high_school</td>\n",
       "      <td>False</td>\n",
       "      <td>True</td>\n",
       "    </tr>\n",
       "    <tr>\n",
       "      <th>3</th>\n",
       "      <td>3</td>\n",
       "      <td>40</td>\n",
       "      <td>admin_</td>\n",
       "      <td>married</td>\n",
       "      <td>basic_6y</td>\n",
       "      <td>False</td>\n",
       "      <td>False</td>\n",
       "    </tr>\n",
       "    <tr>\n",
       "      <th>4</th>\n",
       "      <td>4</td>\n",
       "      <td>56</td>\n",
       "      <td>services</td>\n",
       "      <td>married</td>\n",
       "      <td>high_school</td>\n",
       "      <td>False</td>\n",
       "      <td>False</td>\n",
       "    </tr>\n",
       "  </tbody>\n",
       "</table>\n",
       "</div>"
      ],
      "text/plain": [
       "   client_id  age        job  marital    education  credit_default  mortgage\n",
       "0          0   56  housemaid  married     basic_4y           False     False\n",
       "1          1   57   services  married  high_school           False     False\n",
       "2          2   37   services  married  high_school           False      True\n",
       "3          3   40     admin_  married     basic_6y           False     False\n",
       "4          4   56   services  married  high_school           False     False"
      ]
     },
     "execution_count": 169,
     "metadata": {},
     "output_type": "execute_result"
    }
   ],
   "source": [
    "# Dataframe of client\n",
    "client_df.head()"
   ]
  },
  {
   "cell_type": "code",
   "execution_count": 170,
   "id": "65a94d0d-1c1d-4675-83c3-2763a2905c07",
   "metadata": {
    "executionCancelledAt": null,
    "executionTime": 120,
    "lastExecutedAt": 1756943995059,
    "lastExecutedByKernel": "df839e79-cead-4a38-9ed0-45991c1cfe5a",
    "lastScheduledRunId": null,
    "lastSuccessfullyExecutedCode": "economics = economics_df.to_csv(\"economics.csv\", index=False)"
   },
   "outputs": [
    {
     "data": {
      "text/html": [
       "<div>\n",
       "<style scoped>\n",
       "    .dataframe tbody tr th:only-of-type {\n",
       "        vertical-align: middle;\n",
       "    }\n",
       "\n",
       "    .dataframe tbody tr th {\n",
       "        vertical-align: top;\n",
       "    }\n",
       "\n",
       "    .dataframe thead th {\n",
       "        text-align: right;\n",
       "    }\n",
       "</style>\n",
       "<table border=\"1\" class=\"dataframe\">\n",
       "  <thead>\n",
       "    <tr style=\"text-align: right;\">\n",
       "      <th></th>\n",
       "      <th>client_id</th>\n",
       "      <th>number_contacts</th>\n",
       "      <th>contact_duration</th>\n",
       "      <th>previous_campaign_contacts</th>\n",
       "      <th>previous_outcome</th>\n",
       "      <th>campaign_outcome</th>\n",
       "      <th>last_contact_date</th>\n",
       "    </tr>\n",
       "  </thead>\n",
       "  <tbody>\n",
       "    <tr>\n",
       "      <th>0</th>\n",
       "      <td>0</td>\n",
       "      <td>1</td>\n",
       "      <td>261</td>\n",
       "      <td>0</td>\n",
       "      <td>False</td>\n",
       "      <td>False</td>\n",
       "      <td>2022-05-13</td>\n",
       "    </tr>\n",
       "    <tr>\n",
       "      <th>1</th>\n",
       "      <td>1</td>\n",
       "      <td>1</td>\n",
       "      <td>149</td>\n",
       "      <td>0</td>\n",
       "      <td>False</td>\n",
       "      <td>False</td>\n",
       "      <td>2022-05-19</td>\n",
       "    </tr>\n",
       "    <tr>\n",
       "      <th>2</th>\n",
       "      <td>2</td>\n",
       "      <td>1</td>\n",
       "      <td>226</td>\n",
       "      <td>0</td>\n",
       "      <td>False</td>\n",
       "      <td>False</td>\n",
       "      <td>2022-05-23</td>\n",
       "    </tr>\n",
       "    <tr>\n",
       "      <th>3</th>\n",
       "      <td>3</td>\n",
       "      <td>1</td>\n",
       "      <td>151</td>\n",
       "      <td>0</td>\n",
       "      <td>False</td>\n",
       "      <td>False</td>\n",
       "      <td>2022-05-27</td>\n",
       "    </tr>\n",
       "    <tr>\n",
       "      <th>4</th>\n",
       "      <td>4</td>\n",
       "      <td>1</td>\n",
       "      <td>307</td>\n",
       "      <td>0</td>\n",
       "      <td>False</td>\n",
       "      <td>False</td>\n",
       "      <td>2022-05-03</td>\n",
       "    </tr>\n",
       "  </tbody>\n",
       "</table>\n",
       "</div>"
      ],
      "text/plain": [
       "   client_id  number_contacts  contact_duration  previous_campaign_contacts  \\\n",
       "0          0                1               261                           0   \n",
       "1          1                1               149                           0   \n",
       "2          2                1               226                           0   \n",
       "3          3                1               151                           0   \n",
       "4          4                1               307                           0   \n",
       "\n",
       "   previous_outcome  campaign_outcome last_contact_date  \n",
       "0             False             False        2022-05-13  \n",
       "1             False             False        2022-05-19  \n",
       "2             False             False        2022-05-23  \n",
       "3             False             False        2022-05-27  \n",
       "4             False             False        2022-05-03  "
      ]
     },
     "execution_count": 170,
     "metadata": {},
     "output_type": "execute_result"
    }
   ],
   "source": [
    "# Dataframe of campaign\n",
    "campaign_df.head()"
   ]
  },
  {
   "cell_type": "code",
   "execution_count": 171,
   "id": "0cdbdb44",
   "metadata": {},
   "outputs": [
    {
     "data": {
      "text/html": [
       "<div>\n",
       "<style scoped>\n",
       "    .dataframe tbody tr th:only-of-type {\n",
       "        vertical-align: middle;\n",
       "    }\n",
       "\n",
       "    .dataframe tbody tr th {\n",
       "        vertical-align: top;\n",
       "    }\n",
       "\n",
       "    .dataframe thead th {\n",
       "        text-align: right;\n",
       "    }\n",
       "</style>\n",
       "<table border=\"1\" class=\"dataframe\">\n",
       "  <thead>\n",
       "    <tr style=\"text-align: right;\">\n",
       "      <th></th>\n",
       "      <th>client_id</th>\n",
       "      <th>cons_price_idx</th>\n",
       "      <th>euribor_three_months</th>\n",
       "    </tr>\n",
       "  </thead>\n",
       "  <tbody>\n",
       "    <tr>\n",
       "      <th>0</th>\n",
       "      <td>0</td>\n",
       "      <td>93.994</td>\n",
       "      <td>4.857</td>\n",
       "    </tr>\n",
       "    <tr>\n",
       "      <th>1</th>\n",
       "      <td>1</td>\n",
       "      <td>93.994</td>\n",
       "      <td>4.857</td>\n",
       "    </tr>\n",
       "    <tr>\n",
       "      <th>2</th>\n",
       "      <td>2</td>\n",
       "      <td>93.994</td>\n",
       "      <td>4.857</td>\n",
       "    </tr>\n",
       "    <tr>\n",
       "      <th>3</th>\n",
       "      <td>3</td>\n",
       "      <td>93.994</td>\n",
       "      <td>4.857</td>\n",
       "    </tr>\n",
       "    <tr>\n",
       "      <th>4</th>\n",
       "      <td>4</td>\n",
       "      <td>93.994</td>\n",
       "      <td>4.857</td>\n",
       "    </tr>\n",
       "  </tbody>\n",
       "</table>\n",
       "</div>"
      ],
      "text/plain": [
       "   client_id  cons_price_idx  euribor_three_months\n",
       "0          0          93.994                 4.857\n",
       "1          1          93.994                 4.857\n",
       "2          2          93.994                 4.857\n",
       "3          3          93.994                 4.857\n",
       "4          4          93.994                 4.857"
      ]
     },
     "execution_count": 171,
     "metadata": {},
     "output_type": "execute_result"
    }
   ],
   "source": [
    "# Dataframe of economics\n",
    "economics_df.head()"
   ]
  },
  {
   "cell_type": "markdown",
   "id": "327f8297",
   "metadata": {},
   "source": [
    "### Analysis"
   ]
  },
  {
   "cell_type": "markdown",
   "id": "0ffcdc4e",
   "metadata": {},
   "source": [
    "#### 1. Customer profiles"
   ]
  },
  {
   "cell_type": "code",
   "execution_count": 172,
   "id": "1e786aff",
   "metadata": {},
   "outputs": [
    {
     "data": {
      "text/plain": [
       "job\n",
       "technician    2\n",
       "unemployed    1\n",
       "Name: count, dtype: int64"
      ]
     },
     "execution_count": 172,
     "metadata": {},
     "output_type": "execute_result"
    }
   ],
   "source": [
    "# Credit default by job \n",
    "credits_defaults = client_df[client_df['credit_default'] == True]\n",
    "job_credits_default = credits_defaults['job'].value_counts()\n",
    "job_credits_default"
   ]
  },
  {
   "cell_type": "code",
   "execution_count": 173,
   "id": "d1df4ef9",
   "metadata": {},
   "outputs": [
    {
     "data": {
      "text/plain": [
       "job\n",
       "admin_           10422\n",
       "blue-collar       9254\n",
       "technician        6741\n",
       "services          3969\n",
       "management        2924\n",
       "retired           1720\n",
       "entrepreneur      1456\n",
       "self-employed     1421\n",
       "housemaid         1060\n",
       "unemployed        1013\n",
       "student            875\n",
       "unknown            330\n",
       "Name: count, dtype: int64"
      ]
     },
     "execution_count": 173,
     "metadata": {},
     "output_type": "execute_result"
    }
   ],
   "source": [
    "# Credits awarded by job \n",
    "credits_granted = client_df[client_df['credit_default'] == False]\n",
    "job_credits_granted = credits_granted['job'].value_counts()\n",
    "job_credits_granted"
   ]
  },
  {
   "cell_type": "code",
   "execution_count": 174,
   "id": "3f14b0e0",
   "metadata": {},
   "outputs": [
    {
     "data": {
      "text/plain": [
       "array([56, 57, 37, 40, 45, 59, 41, 24, 25, 29, 35, 54, 46, 50, 39, 30, 55,\n",
       "       49, 34, 52, 58, 32, 38, 44, 42, 60, 53, 47, 51, 48, 33, 31, 43, 36,\n",
       "       28, 27, 26, 22, 23, 20, 21, 61, 19, 18, 70, 66, 76, 67, 73, 88, 95,\n",
       "       77, 68, 75, 63, 80, 62, 65, 72, 82, 64, 71, 69, 78, 85, 79, 83, 81,\n",
       "       74, 17, 87, 91, 86, 98, 94, 84, 92, 89])"
      ]
     },
     "execution_count": 174,
     "metadata": {},
     "output_type": "execute_result"
    }
   ],
   "source": [
    "client_df['age'].unique()"
   ]
  },
  {
   "cell_type": "code",
   "execution_count": null,
   "id": "38bdfbc5",
   "metadata": {},
   "outputs": [],
   "source": [
    "# Creating a new age range column\n",
    "ranges = [17, 30, 50, 70, np.inf]\n",
    "group_names = ['17-30', '31-50', '51-70', '71+']\n",
    "\n",
    "client_df.loc[:, 'age_range'] = pd.cut(client_df['age'], bins=ranges, labels=group_names, right=True, include_lowest=True)\n",
    "client_df"
   ]
  },
  {
   "cell_type": "code",
   "execution_count": 176,
   "id": "4eee375f",
   "metadata": {},
   "outputs": [
    {
     "data": {
      "text/plain": [
       "age\n",
       "48    2\n",
       "31    1\n",
       "Name: count, dtype: int64"
      ]
     },
     "execution_count": 176,
     "metadata": {},
     "output_type": "execute_result"
    }
   ],
   "source": [
    "# Credit default by age\n",
    "age_credits_default = credits_defaults['age'].value_counts()\n",
    "age_credits_default"
   ]
  },
  {
   "cell_type": "code",
   "execution_count": 177,
   "id": "2f4a0887",
   "metadata": {},
   "outputs": [
    {
     "data": {
      "text/plain": [
       "age_range\n",
       "31-50    3\n",
       "17-30    0\n",
       "51-70    0\n",
       "71+      0\n",
       "Name: count, dtype: int64"
      ]
     },
     "execution_count": 177,
     "metadata": {},
     "output_type": "execute_result"
    }
   ],
   "source": [
    "# Credit default by age range\n",
    "age_range_credits_default = client_df.loc[client_df['credit_default'] == True, 'age_range'].value_counts()\n",
    "age_range_credits_default"
   ]
  },
  {
   "cell_type": "code",
   "execution_count": 178,
   "id": "ffd61828",
   "metadata": {},
   "outputs": [
    {
     "data": {
      "text/plain": [
       "age\n",
       "31    1946\n",
       "32    1846\n",
       "33    1833\n",
       "36    1780\n",
       "35    1759\n",
       "      ... \n",
       "91       2\n",
       "98       2\n",
       "95       1\n",
       "87       1\n",
       "94       1\n",
       "Name: count, Length: 78, dtype: int64"
      ]
     },
     "execution_count": 178,
     "metadata": {},
     "output_type": "execute_result"
    }
   ],
   "source": [
    "# Credits awarded by age\n",
    "age_credits_granted = credits_granted['age'].value_counts()\n",
    "age_credits_granted"
   ]
  },
  {
   "cell_type": "code",
   "execution_count": 179,
   "id": "19fa07dd",
   "metadata": {},
   "outputs": [
    {
     "data": {
      "text/plain": [
       "age_range\n",
       "31-50    26622\n",
       "17-30     7383\n",
       "51-70     6758\n",
       "71+        422\n",
       "Name: count, dtype: int64"
      ]
     },
     "execution_count": 179,
     "metadata": {},
     "output_type": "execute_result"
    }
   ],
   "source": [
    "# Credit default by age range\n",
    "age_range_credits_awarded = client_df.loc[client_df['credit_default'] == False, 'age_range'].value_counts()\n",
    "age_range_credits_awarded"
   ]
  },
  {
   "cell_type": "code",
   "execution_count": 180,
   "id": "b310dae7",
   "metadata": {},
   "outputs": [
    {
     "data": {
      "text/plain": [
       "marital\n",
       "married    3\n",
       "Name: count, dtype: int64"
      ]
     },
     "execution_count": 180,
     "metadata": {},
     "output_type": "execute_result"
    }
   ],
   "source": [
    "# Credit default by marital status\n",
    "marital_credits_default = credits_defaults['marital'].value_counts()\n",
    "marital_credits_default"
   ]
  },
  {
   "cell_type": "code",
   "execution_count": 181,
   "id": "965d44bf",
   "metadata": {},
   "outputs": [
    {
     "data": {
      "text/plain": [
       "marital\n",
       "married     24925\n",
       "single      11568\n",
       "divorced     4612\n",
       "unknown        80\n",
       "Name: count, dtype: int64"
      ]
     },
     "execution_count": 181,
     "metadata": {},
     "output_type": "execute_result"
    }
   ],
   "source": [
    "# Credits awarded by marital status\n",
    "marital_credits_granted = credits_granted['marital'].value_counts()\n",
    "marital_credits_granted"
   ]
  },
  {
   "cell_type": "code",
   "execution_count": 182,
   "id": "140c9a45",
   "metadata": {},
   "outputs": [
    {
     "data": {
      "text/plain": [
       "education\n",
       "professional_course    2\n",
       "high_school            1\n",
       "Name: count, dtype: int64"
      ]
     },
     "execution_count": 182,
     "metadata": {},
     "output_type": "execute_result"
    }
   ],
   "source": [
    "# Credit default by education\n",
    "education_credits_default = credits_defaults['education'].value_counts()\n",
    "education_credits_default"
   ]
  },
  {
   "cell_type": "code",
   "execution_count": 183,
   "id": "bdadd486",
   "metadata": {},
   "outputs": [
    {
     "data": {
      "text/plain": [
       "education\n",
       "university_degree      12168\n",
       "high_school             9514\n",
       "basic_9y                6045\n",
       "professional_course     5241\n",
       "basic_4y                4176\n",
       "basic_6y                2292\n",
       "illiterate                18\n",
       "Name: count, dtype: int64"
      ]
     },
     "execution_count": 183,
     "metadata": {},
     "output_type": "execute_result"
    }
   ],
   "source": [
    "# Credits awarded by education\n",
    "education_credits_granted = credits_granted['education'].value_counts()\n",
    "education_credits_granted"
   ]
  },
  {
   "cell_type": "code",
   "execution_count": 184,
   "id": "ef8203fe",
   "metadata": {},
   "outputs": [
    {
     "data": {
      "text/plain": [
       "mortgage\n",
       "False    2\n",
       "True     1\n",
       "Name: count, dtype: int64"
      ]
     },
     "execution_count": 184,
     "metadata": {},
     "output_type": "execute_result"
    }
   ],
   "source": [
    "# Credit default and mortage\n",
    "mortgage_credits_default = credits_defaults['mortgage'].value_counts()\n",
    "mortgage_credits_default"
   ]
  },
  {
   "cell_type": "code",
   "execution_count": 185,
   "id": "93948098",
   "metadata": {},
   "outputs": [
    {
     "data": {
      "text/plain": [
       "mortgage\n",
       "True     21575\n",
       "False    19610\n",
       "Name: count, dtype: int64"
      ]
     },
     "execution_count": 185,
     "metadata": {},
     "output_type": "execute_result"
    }
   ],
   "source": [
    "# Credits awarded and mortgage\n",
    "mortgage_credits_granted = credits_granted['mortgage'].value_counts()\n",
    "mortgage_credits_granted"
   ]
  },
  {
   "cell_type": "code",
   "execution_count": 186,
   "id": "8d30414b",
   "metadata": {},
   "outputs": [
    {
     "data": {
      "text/html": [
       "<div>\n",
       "<style scoped>\n",
       "    .dataframe tbody tr th:only-of-type {\n",
       "        vertical-align: middle;\n",
       "    }\n",
       "\n",
       "    .dataframe tbody tr th {\n",
       "        vertical-align: top;\n",
       "    }\n",
       "\n",
       "    .dataframe thead th {\n",
       "        text-align: right;\n",
       "    }\n",
       "</style>\n",
       "<table border=\"1\" class=\"dataframe\">\n",
       "  <thead>\n",
       "    <tr style=\"text-align: right;\">\n",
       "      <th></th>\n",
       "      <th>job</th>\n",
       "      <th>credit_default</th>\n",
       "      <th>count</th>\n",
       "    </tr>\n",
       "  </thead>\n",
       "  <tbody>\n",
       "    <tr>\n",
       "      <th>0</th>\n",
       "      <td>admin_</td>\n",
       "      <td>False</td>\n",
       "      <td>10422</td>\n",
       "    </tr>\n",
       "    <tr>\n",
       "      <th>1</th>\n",
       "      <td>blue-collar</td>\n",
       "      <td>False</td>\n",
       "      <td>9254</td>\n",
       "    </tr>\n",
       "    <tr>\n",
       "      <th>2</th>\n",
       "      <td>entrepreneur</td>\n",
       "      <td>False</td>\n",
       "      <td>1456</td>\n",
       "    </tr>\n",
       "    <tr>\n",
       "      <th>3</th>\n",
       "      <td>housemaid</td>\n",
       "      <td>False</td>\n",
       "      <td>1060</td>\n",
       "    </tr>\n",
       "    <tr>\n",
       "      <th>4</th>\n",
       "      <td>management</td>\n",
       "      <td>False</td>\n",
       "      <td>2924</td>\n",
       "    </tr>\n",
       "    <tr>\n",
       "      <th>5</th>\n",
       "      <td>retired</td>\n",
       "      <td>False</td>\n",
       "      <td>1720</td>\n",
       "    </tr>\n",
       "    <tr>\n",
       "      <th>6</th>\n",
       "      <td>self-employed</td>\n",
       "      <td>False</td>\n",
       "      <td>1421</td>\n",
       "    </tr>\n",
       "    <tr>\n",
       "      <th>7</th>\n",
       "      <td>services</td>\n",
       "      <td>False</td>\n",
       "      <td>3969</td>\n",
       "    </tr>\n",
       "    <tr>\n",
       "      <th>8</th>\n",
       "      <td>student</td>\n",
       "      <td>False</td>\n",
       "      <td>875</td>\n",
       "    </tr>\n",
       "    <tr>\n",
       "      <th>9</th>\n",
       "      <td>technician</td>\n",
       "      <td>False</td>\n",
       "      <td>6741</td>\n",
       "    </tr>\n",
       "    <tr>\n",
       "      <th>10</th>\n",
       "      <td>technician</td>\n",
       "      <td>True</td>\n",
       "      <td>2</td>\n",
       "    </tr>\n",
       "    <tr>\n",
       "      <th>11</th>\n",
       "      <td>unemployed</td>\n",
       "      <td>False</td>\n",
       "      <td>1013</td>\n",
       "    </tr>\n",
       "    <tr>\n",
       "      <th>12</th>\n",
       "      <td>unemployed</td>\n",
       "      <td>True</td>\n",
       "      <td>1</td>\n",
       "    </tr>\n",
       "    <tr>\n",
       "      <th>13</th>\n",
       "      <td>unknown</td>\n",
       "      <td>False</td>\n",
       "      <td>330</td>\n",
       "    </tr>\n",
       "  </tbody>\n",
       "</table>\n",
       "</div>"
      ],
      "text/plain": [
       "              job  credit_default  count\n",
       "0          admin_           False  10422\n",
       "1     blue-collar           False   9254\n",
       "2    entrepreneur           False   1456\n",
       "3       housemaid           False   1060\n",
       "4      management           False   2924\n",
       "5         retired           False   1720\n",
       "6   self-employed           False   1421\n",
       "7        services           False   3969\n",
       "8         student           False    875\n",
       "9      technician           False   6741\n",
       "10     technician            True      2\n",
       "11     unemployed           False   1013\n",
       "12     unemployed            True      1\n",
       "13        unknown           False    330"
      ]
     },
     "execution_count": 186,
     "metadata": {},
     "output_type": "execute_result"
    }
   ],
   "source": [
    "# Job and credits\n",
    "job_credit_counts = (client_df.groupby(['job','credit_default']).size().reset_index(name='count'))\n",
    "job_credit_counts"
   ]
  },
  {
   "cell_type": "code",
   "execution_count": 187,
   "id": "11195975",
   "metadata": {},
   "outputs": [
    {
     "data": {
      "text/html": [
       "<div>\n",
       "<style scoped>\n",
       "    .dataframe tbody tr th:only-of-type {\n",
       "        vertical-align: middle;\n",
       "    }\n",
       "\n",
       "    .dataframe tbody tr th {\n",
       "        vertical-align: top;\n",
       "    }\n",
       "\n",
       "    .dataframe thead th {\n",
       "        text-align: right;\n",
       "    }\n",
       "</style>\n",
       "<table border=\"1\" class=\"dataframe\">\n",
       "  <thead>\n",
       "    <tr style=\"text-align: right;\">\n",
       "      <th></th>\n",
       "      <th>age_range</th>\n",
       "      <th>credit_default</th>\n",
       "      <th>count</th>\n",
       "    </tr>\n",
       "  </thead>\n",
       "  <tbody>\n",
       "    <tr>\n",
       "      <th>0</th>\n",
       "      <td>17-30</td>\n",
       "      <td>False</td>\n",
       "      <td>7383</td>\n",
       "    </tr>\n",
       "    <tr>\n",
       "      <th>1</th>\n",
       "      <td>31-50</td>\n",
       "      <td>False</td>\n",
       "      <td>26622</td>\n",
       "    </tr>\n",
       "    <tr>\n",
       "      <th>2</th>\n",
       "      <td>31-50</td>\n",
       "      <td>True</td>\n",
       "      <td>3</td>\n",
       "    </tr>\n",
       "    <tr>\n",
       "      <th>3</th>\n",
       "      <td>51-70</td>\n",
       "      <td>False</td>\n",
       "      <td>6758</td>\n",
       "    </tr>\n",
       "    <tr>\n",
       "      <th>4</th>\n",
       "      <td>71+</td>\n",
       "      <td>False</td>\n",
       "      <td>422</td>\n",
       "    </tr>\n",
       "  </tbody>\n",
       "</table>\n",
       "</div>"
      ],
      "text/plain": [
       "  age_range  credit_default  count\n",
       "0     17-30           False   7383\n",
       "1     31-50           False  26622\n",
       "2     31-50            True      3\n",
       "3     51-70           False   6758\n",
       "4       71+           False    422"
      ]
     },
     "execution_count": 187,
     "metadata": {},
     "output_type": "execute_result"
    }
   ],
   "source": [
    "# Job and credits\n",
    "age_credit_counts = (client_df.groupby(['age_range','credit_default'], observed=True).size().reset_index(name='count'))\n",
    "age_credit_counts"
   ]
  },
  {
   "cell_type": "code",
   "execution_count": 188,
   "id": "fcfdb0be",
   "metadata": {},
   "outputs": [
    {
     "data": {
      "text/html": [
       "<div>\n",
       "<style scoped>\n",
       "    .dataframe tbody tr th:only-of-type {\n",
       "        vertical-align: middle;\n",
       "    }\n",
       "\n",
       "    .dataframe tbody tr th {\n",
       "        vertical-align: top;\n",
       "    }\n",
       "\n",
       "    .dataframe thead th {\n",
       "        text-align: right;\n",
       "    }\n",
       "</style>\n",
       "<table border=\"1\" class=\"dataframe\">\n",
       "  <thead>\n",
       "    <tr style=\"text-align: right;\">\n",
       "      <th></th>\n",
       "      <th>marital</th>\n",
       "      <th>credit_default</th>\n",
       "      <th>count</th>\n",
       "    </tr>\n",
       "  </thead>\n",
       "  <tbody>\n",
       "    <tr>\n",
       "      <th>0</th>\n",
       "      <td>divorced</td>\n",
       "      <td>False</td>\n",
       "      <td>4612</td>\n",
       "    </tr>\n",
       "    <tr>\n",
       "      <th>1</th>\n",
       "      <td>married</td>\n",
       "      <td>False</td>\n",
       "      <td>24925</td>\n",
       "    </tr>\n",
       "    <tr>\n",
       "      <th>2</th>\n",
       "      <td>married</td>\n",
       "      <td>True</td>\n",
       "      <td>3</td>\n",
       "    </tr>\n",
       "    <tr>\n",
       "      <th>3</th>\n",
       "      <td>single</td>\n",
       "      <td>False</td>\n",
       "      <td>11568</td>\n",
       "    </tr>\n",
       "    <tr>\n",
       "      <th>4</th>\n",
       "      <td>unknown</td>\n",
       "      <td>False</td>\n",
       "      <td>80</td>\n",
       "    </tr>\n",
       "  </tbody>\n",
       "</table>\n",
       "</div>"
      ],
      "text/plain": [
       "    marital  credit_default  count\n",
       "0  divorced           False   4612\n",
       "1   married           False  24925\n",
       "2   married            True      3\n",
       "3    single           False  11568\n",
       "4   unknown           False     80"
      ]
     },
     "execution_count": 188,
     "metadata": {},
     "output_type": "execute_result"
    }
   ],
   "source": [
    "# Marital status and credits\n",
    "marital_credits_count = (client_df.groupby(['marital','credit_default']).size().reset_index(name='count'))\n",
    "marital_credits_count"
   ]
  },
  {
   "cell_type": "code",
   "execution_count": 189,
   "id": "afaf79d5",
   "metadata": {},
   "outputs": [
    {
     "data": {
      "text/html": [
       "<div>\n",
       "<style scoped>\n",
       "    .dataframe tbody tr th:only-of-type {\n",
       "        vertical-align: middle;\n",
       "    }\n",
       "\n",
       "    .dataframe tbody tr th {\n",
       "        vertical-align: top;\n",
       "    }\n",
       "\n",
       "    .dataframe thead th {\n",
       "        text-align: right;\n",
       "    }\n",
       "</style>\n",
       "<table border=\"1\" class=\"dataframe\">\n",
       "  <thead>\n",
       "    <tr style=\"text-align: right;\">\n",
       "      <th></th>\n",
       "      <th>education</th>\n",
       "      <th>credit_default</th>\n",
       "      <th>count</th>\n",
       "    </tr>\n",
       "  </thead>\n",
       "  <tbody>\n",
       "    <tr>\n",
       "      <th>0</th>\n",
       "      <td>basic_4y</td>\n",
       "      <td>False</td>\n",
       "      <td>4176</td>\n",
       "    </tr>\n",
       "    <tr>\n",
       "      <th>1</th>\n",
       "      <td>basic_6y</td>\n",
       "      <td>False</td>\n",
       "      <td>2292</td>\n",
       "    </tr>\n",
       "    <tr>\n",
       "      <th>2</th>\n",
       "      <td>basic_9y</td>\n",
       "      <td>False</td>\n",
       "      <td>6045</td>\n",
       "    </tr>\n",
       "    <tr>\n",
       "      <th>3</th>\n",
       "      <td>high_school</td>\n",
       "      <td>False</td>\n",
       "      <td>9514</td>\n",
       "    </tr>\n",
       "    <tr>\n",
       "      <th>4</th>\n",
       "      <td>high_school</td>\n",
       "      <td>True</td>\n",
       "      <td>1</td>\n",
       "    </tr>\n",
       "    <tr>\n",
       "      <th>5</th>\n",
       "      <td>illiterate</td>\n",
       "      <td>False</td>\n",
       "      <td>18</td>\n",
       "    </tr>\n",
       "    <tr>\n",
       "      <th>6</th>\n",
       "      <td>professional_course</td>\n",
       "      <td>False</td>\n",
       "      <td>5241</td>\n",
       "    </tr>\n",
       "    <tr>\n",
       "      <th>7</th>\n",
       "      <td>professional_course</td>\n",
       "      <td>True</td>\n",
       "      <td>2</td>\n",
       "    </tr>\n",
       "    <tr>\n",
       "      <th>8</th>\n",
       "      <td>university_degree</td>\n",
       "      <td>False</td>\n",
       "      <td>12168</td>\n",
       "    </tr>\n",
       "  </tbody>\n",
       "</table>\n",
       "</div>"
      ],
      "text/plain": [
       "             education  credit_default  count\n",
       "0             basic_4y           False   4176\n",
       "1             basic_6y           False   2292\n",
       "2             basic_9y           False   6045\n",
       "3          high_school           False   9514\n",
       "4          high_school            True      1\n",
       "5           illiterate           False     18\n",
       "6  professional_course           False   5241\n",
       "7  professional_course            True      2\n",
       "8    university_degree           False  12168"
      ]
     },
     "execution_count": 189,
     "metadata": {},
     "output_type": "execute_result"
    }
   ],
   "source": [
    "# Education and credits\n",
    "education_credit_count = (client_df.groupby(['education','credit_default']).size().reset_index(name='count'))\n",
    "education_credit_count"
   ]
  },
  {
   "cell_type": "code",
   "execution_count": 190,
   "id": "3c41c778",
   "metadata": {},
   "outputs": [
    {
     "data": {
      "text/html": [
       "<div>\n",
       "<style scoped>\n",
       "    .dataframe tbody tr th:only-of-type {\n",
       "        vertical-align: middle;\n",
       "    }\n",
       "\n",
       "    .dataframe tbody tr th {\n",
       "        vertical-align: top;\n",
       "    }\n",
       "\n",
       "    .dataframe thead th {\n",
       "        text-align: right;\n",
       "    }\n",
       "</style>\n",
       "<table border=\"1\" class=\"dataframe\">\n",
       "  <thead>\n",
       "    <tr style=\"text-align: right;\">\n",
       "      <th></th>\n",
       "      <th>mortgage</th>\n",
       "      <th>credit_default</th>\n",
       "      <th>count</th>\n",
       "    </tr>\n",
       "  </thead>\n",
       "  <tbody>\n",
       "    <tr>\n",
       "      <th>0</th>\n",
       "      <td>False</td>\n",
       "      <td>False</td>\n",
       "      <td>19610</td>\n",
       "    </tr>\n",
       "    <tr>\n",
       "      <th>1</th>\n",
       "      <td>False</td>\n",
       "      <td>True</td>\n",
       "      <td>2</td>\n",
       "    </tr>\n",
       "    <tr>\n",
       "      <th>2</th>\n",
       "      <td>True</td>\n",
       "      <td>False</td>\n",
       "      <td>21575</td>\n",
       "    </tr>\n",
       "    <tr>\n",
       "      <th>3</th>\n",
       "      <td>True</td>\n",
       "      <td>True</td>\n",
       "      <td>1</td>\n",
       "    </tr>\n",
       "  </tbody>\n",
       "</table>\n",
       "</div>"
      ],
      "text/plain": [
       "   mortgage  credit_default  count\n",
       "0     False           False  19610\n",
       "1     False            True      2\n",
       "2      True           False  21575\n",
       "3      True            True      1"
      ]
     },
     "execution_count": 190,
     "metadata": {},
     "output_type": "execute_result"
    }
   ],
   "source": [
    "# Mortgage and credits\n",
    "mortgage_credit_count = (client_df.groupby(['mortgage','credit_default']).size().reset_index(name='count'))\n",
    "mortgage_credit_count"
   ]
  },
  {
   "cell_type": "markdown",
   "id": "6e7e5917",
   "metadata": {},
   "source": [
    "### Visualization of Profile Customers"
   ]
  },
  {
   "cell_type": "code",
   "execution_count": 191,
   "id": "7a157279",
   "metadata": {},
   "outputs": [
    {
     "data": {
      "image/png": "[encoded data removed]",
      "text/plain": [
       "<Figure size 1200x600 with 1 Axes>"
      ]
     },
     "metadata": {},
     "output_type": "display_data"
    }
   ],
   "source": [
    "# Graphic job and credit\n",
    "plt.figure(figsize=(12,6))\n",
    "sns.barplot(data=job_credit_counts.sort_values(by='count', ascending=False), x='job', y='count', hue='credit_default')\n",
    "plt.title(\"Credit Default vs Granted by Job\", fontsize=14, weight=\"bold\")\n",
    "plt.xlabel(\"Job\", fontsize=11, weight=\"bold\")\n",
    "plt.xticks(rotation=45)\n",
    "plt.ylabel(\"Number of Clients\", fontsize=11, weight=\"bold\")\n",
    "# Ranges of axis \"Y\"\n",
    "plt.gca().yaxis.set_major_locator(MultipleLocator(1000)) # step by 1000\n",
    "plt.ylim(0,job_credit_counts['count'].max()+1000)\n",
    "plt.legend(title=\"Credit Default\")\n",
    "plt.show()"
   ]
  },
  {
   "cell_type": "code",
   "execution_count": 192,
   "id": "f31b7754",
   "metadata": {},
   "outputs": [
    {
     "data": {
      "image/png": "[encoded data removed]",
      "text/plain": [
       "<Figure size 1200x600 with 1 Axes>"
      ]
     },
     "metadata": {},
     "output_type": "display_data"
    }
   ],
   "source": [
    "# Graphic age range and credit\n",
    "plt.figure(figsize=(12,6))\n",
    "sns.barplot(data=age_credit_counts, x='age_range', y='count', hue='credit_default')\n",
    "plt.title(\"Credit Default vs Age Range\", fontsize=14, weight=\"bold\")\n",
    "plt.xlabel(\"Age Range\", fontsize=11, weight=\"bold\")\n",
    "plt.ylabel(\"Number of Clients\", fontsize=11, weight=\"bold\")\n",
    "# Ranges of axis \"Y\"\n",
    "plt.gca().yaxis.set_major_locator(MultipleLocator(2000))\n",
    "plt.ylim(0,age_credit_counts['count'].max()+2000)\n",
    "plt.legend(title=\"Credit Default\")\n",
    "plt.show()"
   ]
  },
  {
   "cell_type": "code",
   "execution_count": 193,
   "id": "7dcc5454",
   "metadata": {},
   "outputs": [
    {
     "data": {
      "image/png": "[encoded data removed]",
      "text/plain": [
       "<Figure size 1200x600 with 1 Axes>"
      ]
     },
     "metadata": {},
     "output_type": "display_data"
    }
   ],
   "source": [
    "# Graphic marital status and credit\n",
    "plt.figure(figsize=(12,6))\n",
    "sns.barplot(data=marital_credits_count, x='marital', y='count', hue='credit_default')\n",
    "plt.title(\"Credit Default vs Marital Status\", fontsize=14, weight=\"bold\")\n",
    "plt.xlabel(\"Marital Status\", fontsize=11, weight=\"bold\")\n",
    "plt.ylabel(\"Number of Clients\", fontsize=11, weight=\"bold\")\n",
    "# Ranges of axis \"Y\"\n",
    "plt.gca().yaxis.set_major_locator(MultipleLocator(2000))\n",
    "plt.ylim(0,marital_credits_count['count'].max()+2000)\n",
    "plt.legend(title=\"Credit Default\")\n",
    "plt.show()"
   ]
  },
  {
   "cell_type": "code",
   "execution_count": 194,
   "id": "9d55617e",
   "metadata": {},
   "outputs": [
    {
     "data": {
      "image/png": "[encoded data removed]",
      "text/plain": [
       "<Figure size 1200x600 with 1 Axes>"
      ]
     },
     "metadata": {},
     "output_type": "display_data"
    }
   ],
   "source": [
    "# Graphic education and credit\n",
    "plt.figure(figsize=(12,6))\n",
    "sns.barplot(data=education_credit_count.sort_values(by='count', ascending=False), x='education', y='count', hue='credit_default') #Sort by count\n",
    "plt.title(\"Credit Default vs Education\", fontsize=14, weight=\"bold\")\n",
    "plt.xlabel(\"Education\", fontsize=11, weight=\"bold\")\n",
    "plt.ylabel(\"Number of clients\", fontsize=11, weight=\"bold\")\n",
    "#plt.gca().yaxis.set_major_locator(MultipleLocator(2000))\n",
    "#plt.ylim(0,education_credit_count['count'].max() + 2000)\n",
    "plt.legend(title='Credit Default')\n",
    "plt.show()"
   ]
  },
  {
   "cell_type": "code",
   "execution_count": 195,
   "id": "f779d428",
   "metadata": {},
   "outputs": [
    {
     "data": {
      "image/png": "[encoded data removed]",
      "text/plain": [
       "<Figure size 1200x600 with 1 Axes>"
      ]
     },
     "metadata": {},
     "output_type": "display_data"
    }
   ],
   "source": [
    "# Graphic mortgage and credit\n",
    "plt.figure(figsize=(12,6))\n",
    "sns.barplot(data=mortgage_credit_count, x='mortgage', y='count', hue='credit_default')\n",
    "plt.title(\"Credit Default vs Mortgage\", fontsize=14, weight=\"bold\")\n",
    "plt.xlabel(\"Mortgage\", fontsize=11, weight=\"bold\")\n",
    "plt.ylabel(\"Number of Clients\", fontsize=11, weight=\"bold\")\n",
    "# Ranges of axis \"Y\"\n",
    "plt.gca().yaxis.set_major_locator(MultipleLocator(2000))\n",
    "plt.ylim(0,mortgage_credit_count['count'].max()+2000)\n",
    "plt.legend(title=\"Credit Default\")\n",
    "plt.show()"
   ]
  }
 ],
 "metadata": {
  "editor": "DataCamp Workspace",
  "kernelspec": {
   "display_name": "Python 3",
   "language": "python",
   "name": "python3"
  },
  "language_info": {
   "codemirror_mode": {
    "name": "ipython",
    "version": 3
   },
   "file_extension": ".py",
   "mimetype": "text/x-python",
   "name": "python",
   "nbconvert_exporter": "python",
   "pygments_lexer": "ipython3",
   "version": "3.13.3"
  }
 },
 "nbformat": 4,
 "nbformat_minor": 5
}
